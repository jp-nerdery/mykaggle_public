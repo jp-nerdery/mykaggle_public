{
 "cells": [
  {
   "cell_type": "markdown",
   "id": "05544155",
   "metadata": {
    "papermill": {
     "duration": 0.087181,
     "end_time": "2022-04-06T09:10:38.371326",
     "exception": false,
     "start_time": "2022-04-06T09:10:38.284145",
     "status": "completed"
    },
    "tags": []
   },
   "source": [
    "# Introduction\n",
    "\n",
    "US Patent Phrase to Phrase Matching Competition challenges the participants to use innovative semantic similarity techniques to identify similar claims in the set of data."
   ]
  },
  {
   "cell_type": "markdown",
   "id": "90f0bcfb",
   "metadata": {
    "papermill": {
     "duration": 0.085309,
     "end_time": "2022-04-06T09:10:38.542148",
     "exception": false,
     "start_time": "2022-04-06T09:10:38.456839",
     "status": "completed"
    },
    "tags": []
   },
   "source": [
    "# Analysis Preparation\n",
    "\n",
    "Let's first import some Python packages and read the data."
   ]
  },
  {
   "cell_type": "code",
   "execution_count": 1,
   "id": "9035de57",
   "metadata": {
    "execution": {
     "iopub.execute_input": "2022-04-06T09:10:38.717503Z",
     "iopub.status.busy": "2022-04-06T09:10:38.715636Z",
     "iopub.status.idle": "2022-04-06T09:10:39.963342Z",
     "shell.execute_reply": "2022-04-06T09:10:39.962485Z",
     "shell.execute_reply.started": "2022-04-06T09:06:47.984792Z"
    },
    "papermill": {
     "duration": 1.337062,
     "end_time": "2022-04-06T09:10:39.963518",
     "exception": false,
     "start_time": "2022-04-06T09:10:38.626456",
     "status": "completed"
    },
    "tags": []
   },
   "outputs": [],
   "source": [
    "import pandas as pd\n",
    "import numpy as np\n",
    "import os\n",
    "import operator\n",
    "import warnings\n",
    "import seaborn as sns\n",
    "import matplotlib.pyplot as plt\n",
    "from tqdm import tqdm\n",
    "from wordcloud import WordCloud, STOPWORDS\n",
    "\n",
    "warnings.filterwarnings('ignore')"
   ]
  },
  {
   "cell_type": "code",
   "execution_count": 2,
   "id": "c8b6feaa",
   "metadata": {
    "execution": {
     "iopub.execute_input": "2022-04-06T09:10:40.140365Z",
     "iopub.status.busy": "2022-04-06T09:10:40.137331Z",
     "iopub.status.idle": "2022-04-06T09:10:40.265281Z",
     "shell.execute_reply": "2022-04-06T09:10:40.264668Z",
     "shell.execute_reply.started": "2022-04-06T09:06:47.994970Z"
    },
    "papermill": {
     "duration": 0.215883,
     "end_time": "2022-04-06T09:10:40.265458",
     "exception": false,
     "start_time": "2022-04-06T09:10:40.049575",
     "status": "completed"
    },
    "tags": []
   },
   "outputs": [],
   "source": [
    "train_df = pd.read_csv(\"/kaggle/input/us-patent-phrase-to-phrase-matching/train.csv\")\n",
    "test_df = pd.read_csv(\"/kaggle/input/us-patent-phrase-to-phrase-matching/test.csv\")\n",
    "sample_submission_df = pd.read_csv(\"/kaggle/input/us-patent-phrase-to-phrase-matching/sample_submission.csv\")"
   ]
  },
  {
   "cell_type": "markdown",
   "id": "50424f75",
   "metadata": {
    "papermill": {
     "duration": 0.083726,
     "end_time": "2022-04-06T09:10:40.434313",
     "exception": false,
     "start_time": "2022-04-06T09:10:40.350587",
     "status": "completed"
    },
    "tags": []
   },
   "source": [
    "# Preliminary Data Exploration"
   ]
  },
  {
   "cell_type": "markdown",
   "id": "3565dbcd",
   "metadata": {
    "papermill": {
     "duration": 0.083772,
     "end_time": "2022-04-06T09:10:40.602548",
     "exception": false,
     "start_time": "2022-04-06T09:10:40.518776",
     "status": "completed"
    },
    "tags": []
   },
   "source": [
    "## Glimpse the data"
   ]
  },
  {
   "cell_type": "code",
   "execution_count": 3,
   "id": "a6fa0f42",
   "metadata": {
    "execution": {
     "iopub.execute_input": "2022-04-06T09:10:40.774929Z",
     "iopub.status.busy": "2022-04-06T09:10:40.773862Z",
     "iopub.status.idle": "2022-04-06T09:10:40.797090Z",
     "shell.execute_reply": "2022-04-06T09:10:40.797676Z",
     "shell.execute_reply.started": "2022-04-06T09:06:48.086672Z"
    },
    "papermill": {
     "duration": 0.111354,
     "end_time": "2022-04-06T09:10:40.797863",
     "exception": false,
     "start_time": "2022-04-06T09:10:40.686509",
     "status": "completed"
    },
    "tags": []
   },
   "outputs": [
    {
     "data": {
      "text/html": [
       "<div>\n",
       "<style scoped>\n",
       "    .dataframe tbody tr th:only-of-type {\n",
       "        vertical-align: middle;\n",
       "    }\n",
       "\n",
       "    .dataframe tbody tr th {\n",
       "        vertical-align: top;\n",
       "    }\n",
       "\n",
       "    .dataframe thead th {\n",
       "        text-align: right;\n",
       "    }\n",
       "</style>\n",
       "<table border=\"1\" class=\"dataframe\">\n",
       "  <thead>\n",
       "    <tr style=\"text-align: right;\">\n",
       "      <th></th>\n",
       "      <th>id</th>\n",
       "      <th>anchor</th>\n",
       "      <th>target</th>\n",
       "      <th>context</th>\n",
       "      <th>score</th>\n",
       "    </tr>\n",
       "  </thead>\n",
       "  <tbody>\n",
       "    <tr>\n",
       "      <th>0</th>\n",
       "      <td>37d61fd2272659b1</td>\n",
       "      <td>abatement</td>\n",
       "      <td>abatement of pollution</td>\n",
       "      <td>A47</td>\n",
       "      <td>0.50</td>\n",
       "    </tr>\n",
       "    <tr>\n",
       "      <th>1</th>\n",
       "      <td>7b9652b17b68b7a4</td>\n",
       "      <td>abatement</td>\n",
       "      <td>act of abating</td>\n",
       "      <td>A47</td>\n",
       "      <td>0.75</td>\n",
       "    </tr>\n",
       "  </tbody>\n",
       "</table>\n",
       "</div>"
      ],
      "text/plain": [
       "                 id     anchor                  target context  score\n",
       "0  37d61fd2272659b1  abatement  abatement of pollution     A47   0.50\n",
       "1  7b9652b17b68b7a4  abatement          act of abating     A47   0.75"
      ]
     },
     "execution_count": 3,
     "metadata": {},
     "output_type": "execute_result"
    }
   ],
   "source": [
    "train_df.head(2)"
   ]
  },
  {
   "cell_type": "code",
   "execution_count": 4,
   "id": "86f3ca05",
   "metadata": {
    "execution": {
     "iopub.execute_input": "2022-04-06T09:10:40.985241Z",
     "iopub.status.busy": "2022-04-06T09:10:40.984099Z",
     "iopub.status.idle": "2022-04-06T09:10:40.988526Z",
     "shell.execute_reply": "2022-04-06T09:10:40.987859Z",
     "shell.execute_reply.started": "2022-04-06T09:06:48.098863Z"
    },
    "papermill": {
     "duration": 0.102489,
     "end_time": "2022-04-06T09:10:40.988675",
     "exception": false,
     "start_time": "2022-04-06T09:10:40.886186",
     "status": "completed"
    },
    "tags": []
   },
   "outputs": [
    {
     "data": {
      "text/html": [
       "<div>\n",
       "<style scoped>\n",
       "    .dataframe tbody tr th:only-of-type {\n",
       "        vertical-align: middle;\n",
       "    }\n",
       "\n",
       "    .dataframe tbody tr th {\n",
       "        vertical-align: top;\n",
       "    }\n",
       "\n",
       "    .dataframe thead th {\n",
       "        text-align: right;\n",
       "    }\n",
       "</style>\n",
       "<table border=\"1\" class=\"dataframe\">\n",
       "  <thead>\n",
       "    <tr style=\"text-align: right;\">\n",
       "      <th></th>\n",
       "      <th>id</th>\n",
       "      <th>anchor</th>\n",
       "      <th>target</th>\n",
       "      <th>context</th>\n",
       "    </tr>\n",
       "  </thead>\n",
       "  <tbody>\n",
       "    <tr>\n",
       "      <th>0</th>\n",
       "      <td>4112d61851461f60</td>\n",
       "      <td>opc drum</td>\n",
       "      <td>inorganic photoconductor drum</td>\n",
       "      <td>G02</td>\n",
       "    </tr>\n",
       "    <tr>\n",
       "      <th>1</th>\n",
       "      <td>09e418c93a776564</td>\n",
       "      <td>adjust gas flow</td>\n",
       "      <td>altering gas flow</td>\n",
       "      <td>F23</td>\n",
       "    </tr>\n",
       "  </tbody>\n",
       "</table>\n",
       "</div>"
      ],
      "text/plain": [
       "                 id           anchor                         target context\n",
       "0  4112d61851461f60         opc drum  inorganic photoconductor drum     G02\n",
       "1  09e418c93a776564  adjust gas flow              altering gas flow     F23"
      ]
     },
     "execution_count": 4,
     "metadata": {},
     "output_type": "execute_result"
    }
   ],
   "source": [
    "test_df.head(2)"
   ]
  },
  {
   "cell_type": "code",
   "execution_count": 5,
   "id": "36406d0a",
   "metadata": {
    "execution": {
     "iopub.execute_input": "2022-04-06T09:10:41.166452Z",
     "iopub.status.busy": "2022-04-06T09:10:41.165596Z",
     "iopub.status.idle": "2022-04-06T09:10:41.175090Z",
     "shell.execute_reply": "2022-04-06T09:10:41.175628Z",
     "shell.execute_reply.started": "2022-04-06T09:06:48.119238Z"
    },
    "papermill": {
     "duration": 0.099898,
     "end_time": "2022-04-06T09:10:41.175815",
     "exception": false,
     "start_time": "2022-04-06T09:10:41.075917",
     "status": "completed"
    },
    "tags": []
   },
   "outputs": [
    {
     "data": {
      "text/html": [
       "<div>\n",
       "<style scoped>\n",
       "    .dataframe tbody tr th:only-of-type {\n",
       "        vertical-align: middle;\n",
       "    }\n",
       "\n",
       "    .dataframe tbody tr th {\n",
       "        vertical-align: top;\n",
       "    }\n",
       "\n",
       "    .dataframe thead th {\n",
       "        text-align: right;\n",
       "    }\n",
       "</style>\n",
       "<table border=\"1\" class=\"dataframe\">\n",
       "  <thead>\n",
       "    <tr style=\"text-align: right;\">\n",
       "      <th></th>\n",
       "      <th>id</th>\n",
       "      <th>score</th>\n",
       "    </tr>\n",
       "  </thead>\n",
       "  <tbody>\n",
       "    <tr>\n",
       "      <th>0</th>\n",
       "      <td>4112d61851461f60</td>\n",
       "      <td>0</td>\n",
       "    </tr>\n",
       "    <tr>\n",
       "      <th>1</th>\n",
       "      <td>09e418c93a776564</td>\n",
       "      <td>0</td>\n",
       "    </tr>\n",
       "  </tbody>\n",
       "</table>\n",
       "</div>"
      ],
      "text/plain": [
       "                 id  score\n",
       "0  4112d61851461f60      0\n",
       "1  09e418c93a776564      0"
      ]
     },
     "execution_count": 5,
     "metadata": {},
     "output_type": "execute_result"
    }
   ],
   "source": [
    "sample_submission_df.head(2)"
   ]
  },
  {
   "cell_type": "markdown",
   "id": "ec6e3f78",
   "metadata": {
    "papermill": {
     "duration": 0.086447,
     "end_time": "2022-04-06T09:10:41.350027",
     "exception": false,
     "start_time": "2022-04-06T09:10:41.263580",
     "status": "completed"
    },
    "tags": []
   },
   "source": [
    "## Data shape"
   ]
  },
  {
   "cell_type": "code",
   "execution_count": 6,
   "id": "98d3799d",
   "metadata": {
    "execution": {
     "iopub.execute_input": "2022-04-06T09:10:41.529997Z",
     "iopub.status.busy": "2022-04-06T09:10:41.527057Z",
     "iopub.status.idle": "2022-04-06T09:10:41.532691Z",
     "shell.execute_reply": "2022-04-06T09:10:41.533359Z",
     "shell.execute_reply.started": "2022-04-06T09:06:48.135420Z"
    },
    "papermill": {
     "duration": 0.095565,
     "end_time": "2022-04-06T09:10:41.533540",
     "exception": false,
     "start_time": "2022-04-06T09:10:41.437975",
     "status": "completed"
    },
    "tags": []
   },
   "outputs": [
    {
     "name": "stdout",
     "output_type": "stream",
     "text": [
      "Train data shape: (36473, 5)\n",
      "Test data shape: (36, 4)\n",
      "Sample submission data shape: (36, 2)\n"
     ]
    }
   ],
   "source": [
    "print(f\"Train data shape: {train_df.shape}\")\n",
    "print(f\"Test data shape: {test_df.shape}\")\n",
    "print(f\"Sample submission data shape: {sample_submission_df.shape}\")"
   ]
  },
  {
   "cell_type": "markdown",
   "id": "0a6a19c2",
   "metadata": {
    "papermill": {
     "duration": 0.085932,
     "end_time": "2022-04-06T09:10:41.705439",
     "exception": false,
     "start_time": "2022-04-06T09:10:41.619507",
     "status": "completed"
    },
    "tags": []
   },
   "source": [
    "## Missing data"
   ]
  },
  {
   "cell_type": "code",
   "execution_count": 7,
   "id": "aa2c89e3",
   "metadata": {
    "_kg_hide-input": true,
    "execution": {
     "iopub.execute_input": "2022-04-06T09:10:41.884225Z",
     "iopub.status.busy": "2022-04-06T09:10:41.883085Z",
     "iopub.status.idle": "2022-04-06T09:10:41.914687Z",
     "shell.execute_reply": "2022-04-06T09:10:41.915223Z",
     "shell.execute_reply.started": "2022-04-06T09:06:48.145568Z"
    },
    "papermill": {
     "duration": 0.124091,
     "end_time": "2022-04-06T09:10:41.915446",
     "exception": false,
     "start_time": "2022-04-06T09:10:41.791355",
     "status": "completed"
    },
    "tags": []
   },
   "outputs": [
    {
     "name": "stdout",
     "output_type": "stream",
     "text": [
      "Missing data (train/anchor): 0\n",
      "Missing data (train/target): 0\n",
      "Missing data (train/context): 0\n",
      "Missing data (test/anchor): 0\n",
      "Missing data (test/target): 0\n",
      "Missing data (test/context): 0\n"
     ]
    }
   ],
   "source": [
    "print(f\"Missing data (train/anchor): {train_df.loc[train_df.anchor.isna()].shape[0]}\")\n",
    "print(f\"Missing data (train/target): {train_df.loc[train_df.target.isna()].shape[0]}\")\n",
    "print(f\"Missing data (train/context): {train_df.loc[train_df.context.isna()].shape[0]}\")\n",
    "print(f\"Missing data (test/anchor): {test_df.loc[test_df.anchor.isna()].shape[0]}\")\n",
    "print(f\"Missing data (test/target): {test_df.loc[test_df.target.isna()].shape[0]}\")\n",
    "print(f\"Missing data (test/context): {test_df.loc[test_df.context.isna()].shape[0]}\")"
   ]
  },
  {
   "cell_type": "markdown",
   "id": "2570fe72",
   "metadata": {
    "papermill": {
     "duration": 0.086018,
     "end_time": "2022-04-06T09:10:42.088027",
     "exception": false,
     "start_time": "2022-04-06T09:10:42.002009",
     "status": "completed"
    },
    "tags": []
   },
   "source": [
    "## Unique data"
   ]
  },
  {
   "cell_type": "code",
   "execution_count": 8,
   "id": "64d8759a",
   "metadata": {
    "_kg_hide-input": true,
    "execution": {
     "iopub.execute_input": "2022-04-06T09:10:42.266105Z",
     "iopub.status.busy": "2022-04-06T09:10:42.265103Z",
     "iopub.status.idle": "2022-04-06T09:10:42.311465Z",
     "shell.execute_reply": "2022-04-06T09:10:42.310684Z",
     "shell.execute_reply.started": "2022-04-06T09:06:48.179799Z"
    },
    "papermill": {
     "duration": 0.137516,
     "end_time": "2022-04-06T09:10:42.311621",
     "exception": false,
     "start_time": "2022-04-06T09:10:42.174105",
     "status": "completed"
    },
    "tags": []
   },
   "outputs": [
    {
     "name": "stdout",
     "output_type": "stream",
     "text": [
      "Unique data (train/anchor): 733 (2.0%)\n",
      "Unique data (train/target): 29340 (80.443%)\n",
      "Unique data (train/context): 106 (0.291%)\n",
      "Unique data (test/anchor): 34 (94.444%)\n",
      "Unique data (test/target): 36 (100.0%)\n",
      "Unique data (test/context): 29 (80.556%)\n"
     ]
    }
   ],
   "source": [
    "print(f\"Unique data (train/anchor): {train_df.anchor.nunique()} ({round(train_df.anchor.nunique()/train_df.shape[0]*100, 1)}%)\")\n",
    "print(f\"Unique data (train/target): {train_df.target.nunique()} ({round(train_df.target.nunique()/train_df.shape[0]*100, 3)}%)\")\n",
    "print(f\"Unique data (train/context): {train_df.context.nunique()} ({round(train_df.context.nunique()/train_df.shape[0]*100, 3)}%)\")\n",
    "print(f\"Unique data (test/anchor): {test_df.anchor.nunique()} ({round(test_df.anchor.nunique()/test_df.shape[0]*100, 3)}%)\")\n",
    "print(f\"Unique data (test/target): {test_df.target.nunique()} ({round(test_df.target.nunique()/test_df.shape[0]*100, 3)}%)\")\n",
    "print(f\"Unique data (test/context): {test_df.context.nunique()} ({round(test_df.context.nunique()/test_df.shape[0]*100, 3)}%)\")"
   ]
  },
  {
   "cell_type": "markdown",
   "id": "283334d2",
   "metadata": {
    "papermill": {
     "duration": 0.088209,
     "end_time": "2022-04-06T09:10:42.486839",
     "exception": false,
     "start_time": "2022-04-06T09:10:42.398630",
     "status": "completed"
    },
    "tags": []
   },
   "source": [
    "# Advanced Data Exploration\n",
    "\n",
    "\n",
    "We will try to answer few questions about the data distribution, frequent words, frequent n-grams, possbile duplicates, words and phrases length.\n",
    "\n",
    "## Which anchor phrases have most of target candidates?"
   ]
  },
  {
   "cell_type": "code",
   "execution_count": 9,
   "id": "81434c47",
   "metadata": {
    "execution": {
     "iopub.execute_input": "2022-04-06T09:10:42.676318Z",
     "iopub.status.busy": "2022-04-06T09:10:42.675332Z",
     "iopub.status.idle": "2022-04-06T09:10:42.695945Z",
     "shell.execute_reply": "2022-04-06T09:10:42.696542Z",
     "shell.execute_reply.started": "2022-04-06T09:06:48.222223Z"
    },
    "papermill": {
     "duration": 0.11899,
     "end_time": "2022-04-06T09:10:42.696723",
     "exception": false,
     "start_time": "2022-04-06T09:10:42.577733",
     "status": "completed"
    },
    "tags": []
   },
   "outputs": [
    {
     "data": {
      "text/html": [
       "<div>\n",
       "<style scoped>\n",
       "    .dataframe tbody tr th:only-of-type {\n",
       "        vertical-align: middle;\n",
       "    }\n",
       "\n",
       "    .dataframe tbody tr th {\n",
       "        vertical-align: top;\n",
       "    }\n",
       "\n",
       "    .dataframe thead th {\n",
       "        text-align: right;\n",
       "    }\n",
       "</style>\n",
       "<table border=\"1\" class=\"dataframe\">\n",
       "  <thead>\n",
       "    <tr style=\"text-align: right;\">\n",
       "      <th></th>\n",
       "      <th>anchor</th>\n",
       "      <th>target</th>\n",
       "    </tr>\n",
       "  </thead>\n",
       "  <tbody>\n",
       "    <tr>\n",
       "      <th>129</th>\n",
       "      <td>component composite coating</td>\n",
       "      <td>152</td>\n",
       "    </tr>\n",
       "    <tr>\n",
       "      <th>613</th>\n",
       "      <td>sheet supply roller</td>\n",
       "      <td>150</td>\n",
       "    </tr>\n",
       "    <tr>\n",
       "      <th>631</th>\n",
       "      <td>source voltage</td>\n",
       "      <td>140</td>\n",
       "    </tr>\n",
       "    <tr>\n",
       "      <th>482</th>\n",
       "      <td>perfluoroalkyl group</td>\n",
       "      <td>136</td>\n",
       "    </tr>\n",
       "    <tr>\n",
       "      <th>216</th>\n",
       "      <td>el display</td>\n",
       "      <td>135</td>\n",
       "    </tr>\n",
       "    <tr>\n",
       "      <th>54</th>\n",
       "      <td>average pore size</td>\n",
       "      <td>133</td>\n",
       "    </tr>\n",
       "    <tr>\n",
       "      <th>632</th>\n",
       "      <td>speed control means</td>\n",
       "      <td>130</td>\n",
       "    </tr>\n",
       "    <tr>\n",
       "      <th>476</th>\n",
       "      <td>parallel orientation</td>\n",
       "      <td>127</td>\n",
       "    </tr>\n",
       "    <tr>\n",
       "      <th>197</th>\n",
       "      <td>displacement mechanism</td>\n",
       "      <td>124</td>\n",
       "    </tr>\n",
       "    <tr>\n",
       "      <th>96</th>\n",
       "      <td>cathode layer</td>\n",
       "      <td>118</td>\n",
       "    </tr>\n",
       "  </tbody>\n",
       "</table>\n",
       "</div>"
      ],
      "text/plain": [
       "                          anchor  target\n",
       "129  component composite coating     152\n",
       "613          sheet supply roller     150\n",
       "631               source voltage     140\n",
       "482         perfluoroalkyl group     136\n",
       "216                   el display     135\n",
       "54             average pore size     133\n",
       "632          speed control means     130\n",
       "476         parallel orientation     127\n",
       "197       displacement mechanism     124\n",
       "96                 cathode layer     118"
      ]
     },
     "execution_count": 9,
     "metadata": {},
     "output_type": "execute_result"
    }
   ],
   "source": [
    "g_train_df = train_df.groupby([\"anchor\"])[\"target\"].count().reset_index().sort_values([\"target\"], ascending=False)\n",
    "g_train_df.head(10)"
   ]
  },
  {
   "cell_type": "markdown",
   "id": "6b5c477b",
   "metadata": {
    "papermill": {
     "duration": 0.087831,
     "end_time": "2022-04-06T09:10:42.873259",
     "exception": false,
     "start_time": "2022-04-06T09:10:42.785428",
     "status": "completed"
    },
    "tags": []
   },
   "source": [
    "Let's also plot the distribution of number of target candidates per anchors."
   ]
  },
  {
   "cell_type": "code",
   "execution_count": 10,
   "id": "e5ee7708",
   "metadata": {
    "execution": {
     "iopub.execute_input": "2022-04-06T09:10:43.062714Z",
     "iopub.status.busy": "2022-04-06T09:10:43.054218Z",
     "iopub.status.idle": "2022-04-06T09:10:43.604775Z",
     "shell.execute_reply": "2022-04-06T09:10:43.604088Z",
     "shell.execute_reply.started": "2022-04-06T09:06:48.246721Z"
    },
    "papermill": {
     "duration": 0.642175,
     "end_time": "2022-04-06T09:10:43.604917",
     "exception": false,
     "start_time": "2022-04-06T09:10:42.962742",
     "status": "completed"
    },
    "tags": []
   },
   "outputs": [
    {
     "data": {
      "image/png": "[encoded data removed]",
      "text/plain": [
       "<Figure size 864x432 with 1 Axes>"
      ]
     },
     "metadata": {
      "needs_background": "light"
     },
     "output_type": "display_data"
    }
   ],
   "source": [
    "plt.figure(figsize=(12,6))\n",
    "plt.title(\"Distribution of anchors with a certain number of targets in the train set\")\n",
    "sns.distplot(g_train_df['target'],kde=False,hist=True, bins=120, label='anchors')\n",
    "plt.ylabel(\"Anchors / number of targets\")\n",
    "plt.legend(); plt.show()"
   ]
  },
  {
   "cell_type": "markdown",
   "id": "58fe838c",
   "metadata": {
    "papermill": {
     "duration": 0.090039,
     "end_time": "2022-04-06T09:10:43.782974",
     "exception": false,
     "start_time": "2022-04-06T09:10:43.692935",
     "status": "completed"
    },
    "tags": []
   },
   "source": [
    "## How many anchor phrases have only one target candidate?"
   ]
  },
  {
   "cell_type": "code",
   "execution_count": 11,
   "id": "4e9dd007",
   "metadata": {
    "execution": {
     "iopub.execute_input": "2022-04-06T09:10:43.967260Z",
     "iopub.status.busy": "2022-04-06T09:10:43.966163Z",
     "iopub.status.idle": "2022-04-06T09:10:43.977481Z",
     "shell.execute_reply": "2022-04-06T09:10:43.978048Z",
     "shell.execute_reply.started": "2022-04-06T09:06:48.919991Z"
    },
    "papermill": {
     "duration": 0.106465,
     "end_time": "2022-04-06T09:10:43.978243",
     "exception": false,
     "start_time": "2022-04-06T09:10:43.871778",
     "status": "completed"
    },
    "tags": []
   },
   "outputs": [
    {
     "data": {
      "text/html": [
       "<div>\n",
       "<style scoped>\n",
       "    .dataframe tbody tr th:only-of-type {\n",
       "        vertical-align: middle;\n",
       "    }\n",
       "\n",
       "    .dataframe tbody tr th {\n",
       "        vertical-align: top;\n",
       "    }\n",
       "\n",
       "    .dataframe thead th {\n",
       "        text-align: right;\n",
       "    }\n",
       "</style>\n",
       "<table border=\"1\" class=\"dataframe\">\n",
       "  <thead>\n",
       "    <tr style=\"text-align: right;\">\n",
       "      <th></th>\n",
       "      <th>anchor</th>\n",
       "      <th>target</th>\n",
       "    </tr>\n",
       "  </thead>\n",
       "  <tbody>\n",
       "    <tr>\n",
       "      <th>485</th>\n",
       "      <td>peripheral nervous system stimulation</td>\n",
       "      <td>1</td>\n",
       "    </tr>\n",
       "    <tr>\n",
       "      <th>136</th>\n",
       "      <td>conduct conducting material</td>\n",
       "      <td>1</td>\n",
       "    </tr>\n",
       "  </tbody>\n",
       "</table>\n",
       "</div>"
      ],
      "text/plain": [
       "                                    anchor  target\n",
       "485  peripheral nervous system stimulation       1\n",
       "136            conduct conducting material       1"
      ]
     },
     "execution_count": 11,
     "metadata": {},
     "output_type": "execute_result"
    }
   ],
   "source": [
    "g_train_df.loc[g_train_df.target==1].head(5)"
   ]
  },
  {
   "cell_type": "markdown",
   "id": "b2cae232",
   "metadata": {
    "papermill": {
     "duration": 0.088167,
     "end_time": "2022-04-06T09:10:44.156143",
     "exception": false,
     "start_time": "2022-04-06T09:10:44.067976",
     "status": "completed"
    },
    "tags": []
   },
   "source": [
    "It appears that there are only two anchor phrases that have only one target candidate."
   ]
  },
  {
   "cell_type": "markdown",
   "id": "f7c328f8",
   "metadata": {
    "papermill": {
     "duration": 0.090312,
     "end_time": "2022-04-06T09:10:44.335113",
     "exception": false,
     "start_time": "2022-04-06T09:10:44.244801",
     "status": "completed"
    },
    "tags": []
   },
   "source": [
    "## Is there any target that appears as well as an anchor?"
   ]
  },
  {
   "cell_type": "code",
   "execution_count": 12,
   "id": "51bb3df0",
   "metadata": {
    "_kg_hide-input": true,
    "execution": {
     "iopub.execute_input": "2022-04-06T09:10:44.524611Z",
     "iopub.status.busy": "2022-04-06T09:10:44.523620Z",
     "iopub.status.idle": "2022-04-06T09:10:44.541488Z",
     "shell.execute_reply": "2022-04-06T09:10:44.542003Z",
     "shell.execute_reply.started": "2022-04-06T09:06:48.932928Z"
    },
    "papermill": {
     "duration": 0.11817,
     "end_time": "2022-04-06T09:10:44.542186",
     "exception": false,
     "start_time": "2022-04-06T09:10:44.424016",
     "status": "completed"
    },
    "tags": []
   },
   "outputs": [
    {
     "name": "stdout",
     "output_type": "stream",
     "text": [
      "Anchors:  256  Targets:  258  Anchors & Targets:  247\n",
      "Anchors that are not targets:  {'ack', 'weldability', 'provide acknowledgement', 'voltage patterns', 'define panel', 'inorganic hybrid', 'fluorinated olefin', 'display different pictures', 'apply to anode electrode'}\n",
      "Targets that are not anchors:  {'flux regulator', 'dissolving', 'pictorial image', 'plug nozzle', 'provider networks', 'committee', 'ingress buffer', 'provide for tuning', 'provide restoring force', 'renewable power', 'cathode layer'}\n"
     ]
    }
   ],
   "source": [
    "anchor_target_df = train_df.loc[train_df.target.isin(list(train_df.anchor.unique()))]\n",
    "anchors = anchor_target_df.anchor.unique()\n",
    "targets = anchor_target_df.target.unique()\n",
    "anchors_targets = set(anchors) & set(targets)\n",
    "anchors_not_targets = set(anchors) - set(targets)\n",
    "targets_not_anchors = set(targets) - set(anchors)\n",
    "print(\"Anchors: \", len(anchors), \" Targets: \", len(targets), \" Anchors & Targets: \", len(anchors_targets))\n",
    "print(\"Anchors that are not targets: \",  anchors_not_targets)\n",
    "print(\"Targets that are not anchors: \", targets_not_anchors)"
   ]
  },
  {
   "cell_type": "markdown",
   "id": "c153f6b4",
   "metadata": {
    "papermill": {
     "duration": 0.088789,
     "end_time": "2022-04-06T09:10:44.719975",
     "exception": false,
     "start_time": "2022-04-06T09:10:44.631186",
     "status": "completed"
    },
    "tags": []
   },
   "source": [
    "Let's take a look to these anchors that appear as well as targets."
   ]
  },
  {
   "cell_type": "code",
   "execution_count": 13,
   "id": "5bd10130",
   "metadata": {
    "_kg_hide-input": true,
    "execution": {
     "iopub.execute_input": "2022-04-06T09:10:44.904200Z",
     "iopub.status.busy": "2022-04-06T09:10:44.903159Z",
     "iopub.status.idle": "2022-04-06T09:10:44.910256Z",
     "shell.execute_reply": "2022-04-06T09:10:44.910836Z",
     "shell.execute_reply.started": "2022-04-06T09:06:48.959401Z"
    },
    "papermill": {
     "duration": 0.100528,
     "end_time": "2022-04-06T09:10:44.911017",
     "exception": false,
     "start_time": "2022-04-06T09:10:44.810489",
     "status": "completed"
    },
    "tags": []
   },
   "outputs": [],
   "source": [
    "stopwords = set(STOPWORDS)\n",
    "\n",
    "def show_wordcloud(data, title = None):\n",
    "    wordcloud = WordCloud(\n",
    "        background_color='white',\n",
    "        stopwords=stopwords,\n",
    "        max_words=400,\n",
    "        max_font_size=40, \n",
    "        scale=12,\n",
    "        random_state=1\n",
    "    ).generate(str(data))\n",
    "\n",
    "    fig = plt.figure(1, figsize=(16,10))\n",
    "    plt.axis('off')\n",
    "    if title: \n",
    "        fig.suptitle(title, fontsize=20)\n",
    "        fig.subplots_adjust(top=2.3)\n",
    "\n",
    "    plt.imshow(wordcloud)\n",
    "    plt.show()"
   ]
  },
  {
   "cell_type": "code",
   "execution_count": 14,
   "id": "9ef4ade4",
   "metadata": {
    "execution": {
     "iopub.execute_input": "2022-04-06T09:10:45.095403Z",
     "iopub.status.busy": "2022-04-06T09:10:45.094400Z",
     "iopub.status.idle": "2022-04-06T09:10:49.621453Z",
     "shell.execute_reply": "2022-04-06T09:10:49.622045Z",
     "shell.execute_reply.started": "2022-04-06T09:06:48.970082Z"
    },
    "papermill": {
     "duration": 4.620598,
     "end_time": "2022-04-06T09:10:49.622285",
     "exception": false,
     "start_time": "2022-04-06T09:10:45.001687",
     "status": "completed"
    },
    "tags": []
   },
   "outputs": [
    {
     "data": {
      "image/png": "[encoded data removed]",
      "text/plain": [
       "<Figure size 1152x720 with 1 Axes>"
      ]
     },
     "metadata": {
      "needs_background": "light"
     },
     "output_type": "display_data"
    }
   ],
   "source": [
    "show_wordcloud(anchors_targets, title = '')"
   ]
  },
  {
   "cell_type": "markdown",
   "id": "32180d3d",
   "metadata": {
    "papermill": {
     "duration": 0.101374,
     "end_time": "2022-04-06T09:10:49.828110",
     "exception": false,
     "start_time": "2022-04-06T09:10:49.726736",
     "status": "completed"
    },
    "tags": []
   },
   "source": [
    "Let's also see in how many rows appears these targets."
   ]
  },
  {
   "cell_type": "code",
   "execution_count": 15,
   "id": "b8048d2b",
   "metadata": {
    "execution": {
     "iopub.execute_input": "2022-04-06T09:10:50.043712Z",
     "iopub.status.busy": "2022-04-06T09:10:50.042652Z",
     "iopub.status.idle": "2022-04-06T09:10:50.046484Z",
     "shell.execute_reply": "2022-04-06T09:10:50.047257Z",
     "shell.execute_reply.started": "2022-04-06T09:06:53.268937Z"
    },
    "papermill": {
     "duration": 0.117761,
     "end_time": "2022-04-06T09:10:50.047499",
     "exception": false,
     "start_time": "2022-04-06T09:10:49.929738",
     "status": "completed"
    },
    "tags": []
   },
   "outputs": [
    {
     "name": "stdout",
     "output_type": "stream",
     "text": [
      "Train data with target that appears in anchors: 287\n"
     ]
    }
   ],
   "source": [
    "print(f\"Train data with target that appears in anchors: {train_df.loc[train_df.target.isin(anchors_targets)].shape[0]}\")"
   ]
  },
  {
   "cell_type": "markdown",
   "id": "a26c1702",
   "metadata": {
    "papermill": {
     "duration": 0.101063,
     "end_time": "2022-04-06T09:10:50.254276",
     "exception": false,
     "start_time": "2022-04-06T09:10:50.153213",
     "status": "completed"
    },
    "tags": []
   },
   "source": [
    "But are these all cases with identity score 1.0?"
   ]
  },
  {
   "cell_type": "code",
   "execution_count": 16,
   "id": "bcc11e27",
   "metadata": {
    "execution": {
     "iopub.execute_input": "2022-04-06T09:10:50.463579Z",
     "iopub.status.busy": "2022-04-06T09:10:50.462814Z",
     "iopub.status.idle": "2022-04-06T09:10:50.472338Z",
     "shell.execute_reply": "2022-04-06T09:10:50.471622Z",
     "shell.execute_reply.started": "2022-04-06T09:06:53.280865Z"
    },
    "papermill": {
     "duration": 0.115845,
     "end_time": "2022-04-06T09:10:50.472491",
     "exception": false,
     "start_time": "2022-04-06T09:10:50.356646",
     "status": "completed"
    },
    "tags": []
   },
   "outputs": [
    {
     "name": "stdout",
     "output_type": "stream",
     "text": [
      "285\n"
     ]
    }
   ],
   "source": [
    "df = train_df.loc[train_df.target.isin(anchors_targets) & train_df.score==1]\n",
    "print(df.shape[0])"
   ]
  },
  {
   "cell_type": "markdown",
   "id": "a6cd5516",
   "metadata": {
    "papermill": {
     "duration": 0.101379,
     "end_time": "2022-04-06T09:10:50.675671",
     "exception": false,
     "start_time": "2022-04-06T09:10:50.574292",
     "status": "completed"
    },
    "tags": []
   },
   "source": [
    "Let's see what are those cases when the score is not 1."
   ]
  },
  {
   "cell_type": "code",
   "execution_count": 17,
   "id": "135c7c0f",
   "metadata": {
    "_kg_hide-input": true,
    "execution": {
     "iopub.execute_input": "2022-04-06T09:10:50.891207Z",
     "iopub.status.busy": "2022-04-06T09:10:50.890202Z",
     "iopub.status.idle": "2022-04-06T09:10:50.896042Z",
     "shell.execute_reply": "2022-04-06T09:10:50.896711Z",
     "shell.execute_reply.started": "2022-04-06T09:06:53.301774Z"
    },
    "papermill": {
     "duration": 0.120111,
     "end_time": "2022-04-06T09:10:50.896905",
     "exception": false,
     "start_time": "2022-04-06T09:10:50.776794",
     "status": "completed"
    },
    "tags": []
   },
   "outputs": [
    {
     "name": "stdout",
     "output_type": "stream",
     "text": [
      "Data with score = 1.0 and for which target is one of the anchors:  279\n",
      "All data with score == 1.0:  1154\n"
     ]
    }
   ],
   "source": [
    "print(\"Data with score = 1.0 and for which target is one of the anchors: \", df.loc[df.score==1].shape[0])\n",
    "print(\"All data with score == 1.0: \", train_df.loc[train_df.score==1].shape[0])"
   ]
  },
  {
   "cell_type": "markdown",
   "id": "672ffb9b",
   "metadata": {
    "papermill": {
     "duration": 0.102861,
     "end_time": "2022-04-06T09:10:51.105435",
     "exception": false,
     "start_time": "2022-04-06T09:10:51.002574",
     "status": "completed"
    },
    "tags": []
   },
   "source": [
    "## What is the distribution of word count and character count?"
   ]
  },
  {
   "cell_type": "code",
   "execution_count": 18,
   "id": "21579d08",
   "metadata": {
    "execution": {
     "iopub.execute_input": "2022-04-06T09:10:51.317759Z",
     "iopub.status.busy": "2022-04-06T09:10:51.317038Z",
     "iopub.status.idle": "2022-04-06T09:10:51.427461Z",
     "shell.execute_reply": "2022-04-06T09:10:51.426769Z",
     "shell.execute_reply.started": "2022-04-06T09:06:53.320315Z"
    },
    "papermill": {
     "duration": 0.221024,
     "end_time": "2022-04-06T09:10:51.427618",
     "exception": false,
     "start_time": "2022-04-06T09:10:51.206594",
     "status": "completed"
    },
    "tags": []
   },
   "outputs": [],
   "source": [
    "train_df[\"anchor_char_count\"] = train_df[\"anchor\"].apply(lambda x: len(x))\n",
    "train_df[\"target_char_count\"] = train_df[\"target\"].apply(lambda x: len(x))\n",
    "train_df[\"anchor_word_count\"] = train_df[\"anchor\"].apply(lambda x: len(x.split(\" \")))\n",
    "train_df[\"target_word_count\"] = train_df[\"target\"].apply(lambda x: len(x.split(\" \")))"
   ]
  },
  {
   "cell_type": "code",
   "execution_count": 19,
   "id": "1ecf8cce",
   "metadata": {
    "execution": {
     "iopub.execute_input": "2022-04-06T09:10:51.641666Z",
     "iopub.status.busy": "2022-04-06T09:10:51.640928Z",
     "iopub.status.idle": "2022-04-06T09:10:52.245940Z",
     "shell.execute_reply": "2022-04-06T09:10:52.246454Z",
     "shell.execute_reply.started": "2022-04-06T09:06:53.438889Z"
    },
    "papermill": {
     "duration": 0.716636,
     "end_time": "2022-04-06T09:10:52.246647",
     "exception": false,
     "start_time": "2022-04-06T09:10:51.530011",
     "status": "completed"
    },
    "tags": []
   },
   "outputs": [
    {
     "data": {
      "image/png": "[encoded data removed]",
      "text/plain": [
       "<Figure size 864x432 with 1 Axes>"
      ]
     },
     "metadata": {
      "needs_background": "light"
     },
     "output_type": "display_data"
    }
   ],
   "source": [
    "plt.figure(figsize=(12,6))\n",
    "plt.title(\"Distribution of anchors and target char count\")\n",
    "sns.distplot(train_df['anchor_char_count'],kde=True,hist=False, bins=120, label='anchor char count')\n",
    "sns.distplot(train_df['target_char_count'],kde=True,hist=False, bins=120, label='target char count')\n",
    "plt.legend(); plt.show()"
   ]
  },
  {
   "cell_type": "code",
   "execution_count": 20,
   "id": "16f16594",
   "metadata": {
    "execution": {
     "iopub.execute_input": "2022-04-06T09:10:52.459850Z",
     "iopub.status.busy": "2022-04-06T09:10:52.459069Z",
     "iopub.status.idle": "2022-04-06T09:10:53.092887Z",
     "shell.execute_reply": "2022-04-06T09:10:53.093435Z",
     "shell.execute_reply.started": "2022-04-06T09:06:54.045885Z"
    },
    "papermill": {
     "duration": 0.741949,
     "end_time": "2022-04-06T09:10:53.093618",
     "exception": false,
     "start_time": "2022-04-06T09:10:52.351669",
     "status": "completed"
    },
    "tags": []
   },
   "outputs": [
    {
     "data": {
      "image/png": "[encoded data removed]",
      "text/plain": [
       "<Figure size 864x432 with 1 Axes>"
      ]
     },
     "metadata": {
      "needs_background": "light"
     },
     "output_type": "display_data"
    }
   ],
   "source": [
    "plt.figure(figsize=(12,6))\n",
    "plt.title(\"Distribution of anchors and target word count\")\n",
    "sns.distplot(train_df['anchor_word_count'],kde=True,hist=False, bins=120, label='anchor word count')\n",
    "sns.distplot(train_df['target_word_count'],kde=True,hist=False, bins=120, label='target word count')\n",
    "plt.legend(); plt.show()"
   ]
  },
  {
   "cell_type": "markdown",
   "id": "3a5cc3b6",
   "metadata": {
    "papermill": {
     "duration": 0.107365,
     "end_time": "2022-04-06T09:10:53.307298",
     "exception": false,
     "start_time": "2022-04-06T09:10:53.199933",
     "status": "completed"
    },
    "tags": []
   },
   "source": [
    "## How many targets have zero similarity score with anchors?"
   ]
  },
  {
   "cell_type": "code",
   "execution_count": 21,
   "id": "c5abcfd4",
   "metadata": {
    "_kg_hide-input": true,
    "execution": {
     "iopub.execute_input": "2022-04-06T09:10:53.521547Z",
     "iopub.status.busy": "2022-04-06T09:10:53.520855Z",
     "iopub.status.idle": "2022-04-06T09:10:53.532562Z",
     "shell.execute_reply": "2022-04-06T09:10:53.531961Z",
     "shell.execute_reply.started": "2022-04-06T09:06:54.654161Z"
    },
    "papermill": {
     "duration": 0.119936,
     "end_time": "2022-04-06T09:10:53.532725",
     "exception": false,
     "start_time": "2022-04-06T09:10:53.412789",
     "status": "completed"
    },
    "tags": []
   },
   "outputs": [
    {
     "name": "stdout",
     "output_type": "stream",
     "text": [
      "Data with zero similarity:  7471\n"
     ]
    }
   ],
   "source": [
    "print(\"Data with zero similarity: \", train_df.loc[train_df.score==0].shape[0])"
   ]
  },
  {
   "cell_type": "markdown",
   "id": "3ebd28fa",
   "metadata": {
    "papermill": {
     "duration": 0.104624,
     "end_time": "2022-04-06T09:10:53.742222",
     "exception": false,
     "start_time": "2022-04-06T09:10:53.637598",
     "status": "completed"
    },
    "tags": []
   },
   "source": [
    "Let's look to some examples of this data:"
   ]
  },
  {
   "cell_type": "code",
   "execution_count": 22,
   "id": "e80ff994",
   "metadata": {
    "execution": {
     "iopub.execute_input": "2022-04-06T09:10:53.958293Z",
     "iopub.status.busy": "2022-04-06T09:10:53.957467Z",
     "iopub.status.idle": "2022-04-06T09:10:53.975716Z",
     "shell.execute_reply": "2022-04-06T09:10:53.975191Z",
     "shell.execute_reply.started": "2022-04-06T09:06:54.664996Z"
    },
    "papermill": {
     "duration": 0.12867,
     "end_time": "2022-04-06T09:10:53.975889",
     "exception": false,
     "start_time": "2022-04-06T09:10:53.847219",
     "status": "completed"
    },
    "tags": []
   },
   "outputs": [
    {
     "data": {
      "text/html": [
       "<div>\n",
       "<style scoped>\n",
       "    .dataframe tbody tr th:only-of-type {\n",
       "        vertical-align: middle;\n",
       "    }\n",
       "\n",
       "    .dataframe tbody tr th {\n",
       "        vertical-align: top;\n",
       "    }\n",
       "\n",
       "    .dataframe thead th {\n",
       "        text-align: right;\n",
       "    }\n",
       "</style>\n",
       "<table border=\"1\" class=\"dataframe\">\n",
       "  <thead>\n",
       "    <tr style=\"text-align: right;\">\n",
       "      <th></th>\n",
       "      <th>id</th>\n",
       "      <th>anchor</th>\n",
       "      <th>target</th>\n",
       "      <th>context</th>\n",
       "      <th>score</th>\n",
       "      <th>anchor_char_count</th>\n",
       "      <th>target_char_count</th>\n",
       "      <th>anchor_word_count</th>\n",
       "      <th>target_word_count</th>\n",
       "    </tr>\n",
       "  </thead>\n",
       "  <tbody>\n",
       "    <tr>\n",
       "      <th>23803</th>\n",
       "      <td>e83149a3e8c331a2</td>\n",
       "      <td>pendent</td>\n",
       "      <td>dependent</td>\n",
       "      <td>B21</td>\n",
       "      <td>0.0</td>\n",
       "      <td>7</td>\n",
       "      <td>9</td>\n",
       "      <td>1</td>\n",
       "      <td>1</td>\n",
       "    </tr>\n",
       "    <tr>\n",
       "      <th>847</th>\n",
       "      <td>9425c6a39b47f1c7</td>\n",
       "      <td>adjustable multiple</td>\n",
       "      <td>improved</td>\n",
       "      <td>B25</td>\n",
       "      <td>0.0</td>\n",
       "      <td>19</td>\n",
       "      <td>8</td>\n",
       "      <td>2</td>\n",
       "      <td>1</td>\n",
       "    </tr>\n",
       "    <tr>\n",
       "      <th>8787</th>\n",
       "      <td>43201497aabcb994</td>\n",
       "      <td>dental aligners</td>\n",
       "      <td>hair aligners</td>\n",
       "      <td>B65</td>\n",
       "      <td>0.0</td>\n",
       "      <td>15</td>\n",
       "      <td>13</td>\n",
       "      <td>2</td>\n",
       "      <td>2</td>\n",
       "    </tr>\n",
       "    <tr>\n",
       "      <th>4313</th>\n",
       "      <td>d6146e70a1b8deb2</td>\n",
       "      <td>carburization</td>\n",
       "      <td>heat eyewear frames</td>\n",
       "      <td>B23</td>\n",
       "      <td>0.0</td>\n",
       "      <td>13</td>\n",
       "      <td>19</td>\n",
       "      <td>1</td>\n",
       "      <td>3</td>\n",
       "    </tr>\n",
       "    <tr>\n",
       "      <th>11466</th>\n",
       "      <td>c48e9e5a15050af6</td>\n",
       "      <td>end of bars</td>\n",
       "      <td>barcode scanner</td>\n",
       "      <td>D03</td>\n",
       "      <td>0.0</td>\n",
       "      <td>11</td>\n",
       "      <td>15</td>\n",
       "      <td>3</td>\n",
       "      <td>2</td>\n",
       "    </tr>\n",
       "    <tr>\n",
       "      <th>34875</th>\n",
       "      <td>dadeebfcbae25b9d</td>\n",
       "      <td>verifiable</td>\n",
       "      <td>differentially present</td>\n",
       "      <td>G01</td>\n",
       "      <td>0.0</td>\n",
       "      <td>10</td>\n",
       "      <td>22</td>\n",
       "      <td>1</td>\n",
       "      <td>2</td>\n",
       "    </tr>\n",
       "    <tr>\n",
       "      <th>23237</th>\n",
       "      <td>7e852c04ff9e517c</td>\n",
       "      <td>package member</td>\n",
       "      <td>article</td>\n",
       "      <td>B65</td>\n",
       "      <td>0.0</td>\n",
       "      <td>14</td>\n",
       "      <td>7</td>\n",
       "      <td>2</td>\n",
       "      <td>1</td>\n",
       "    </tr>\n",
       "    <tr>\n",
       "      <th>27389</th>\n",
       "      <td>c3b34635db33819b</td>\n",
       "      <td>regeneration agent</td>\n",
       "      <td>water</td>\n",
       "      <td>D06</td>\n",
       "      <td>0.0</td>\n",
       "      <td>18</td>\n",
       "      <td>5</td>\n",
       "      <td>2</td>\n",
       "      <td>1</td>\n",
       "    </tr>\n",
       "    <tr>\n",
       "      <th>30500</th>\n",
       "      <td>20c954d5f80bcd06</td>\n",
       "      <td>shunt reactor</td>\n",
       "      <td>reactor java</td>\n",
       "      <td>G01</td>\n",
       "      <td>0.0</td>\n",
       "      <td>13</td>\n",
       "      <td>12</td>\n",
       "      <td>2</td>\n",
       "      <td>2</td>\n",
       "    </tr>\n",
       "    <tr>\n",
       "      <th>15602</th>\n",
       "      <td>9b47e52531e32821</td>\n",
       "      <td>high gradient magnetic separators</td>\n",
       "      <td>separator manufacturer</td>\n",
       "      <td>C02</td>\n",
       "      <td>0.0</td>\n",
       "      <td>33</td>\n",
       "      <td>22</td>\n",
       "      <td>4</td>\n",
       "      <td>2</td>\n",
       "    </tr>\n",
       "  </tbody>\n",
       "</table>\n",
       "</div>"
      ],
      "text/plain": [
       "                     id                             anchor  \\\n",
       "23803  e83149a3e8c331a2                            pendent   \n",
       "847    9425c6a39b47f1c7                adjustable multiple   \n",
       "8787   43201497aabcb994                    dental aligners   \n",
       "4313   d6146e70a1b8deb2                      carburization   \n",
       "11466  c48e9e5a15050af6                        end of bars   \n",
       "34875  dadeebfcbae25b9d                         verifiable   \n",
       "23237  7e852c04ff9e517c                     package member   \n",
       "27389  c3b34635db33819b                 regeneration agent   \n",
       "30500  20c954d5f80bcd06                      shunt reactor   \n",
       "15602  9b47e52531e32821  high gradient magnetic separators   \n",
       "\n",
       "                       target context  score  anchor_char_count  \\\n",
       "23803               dependent     B21    0.0                  7   \n",
       "847                  improved     B25    0.0                 19   \n",
       "8787            hair aligners     B65    0.0                 15   \n",
       "4313      heat eyewear frames     B23    0.0                 13   \n",
       "11466         barcode scanner     D03    0.0                 11   \n",
       "34875  differentially present     G01    0.0                 10   \n",
       "23237                 article     B65    0.0                 14   \n",
       "27389                   water     D06    0.0                 18   \n",
       "30500            reactor java     G01    0.0                 13   \n",
       "15602  separator manufacturer     C02    0.0                 33   \n",
       "\n",
       "       target_char_count  anchor_word_count  target_word_count  \n",
       "23803                  9                  1                  1  \n",
       "847                    8                  2                  1  \n",
       "8787                  13                  2                  2  \n",
       "4313                  19                  1                  3  \n",
       "11466                 15                  3                  2  \n",
       "34875                 22                  1                  2  \n",
       "23237                  7                  2                  1  \n",
       "27389                  5                  2                  1  \n",
       "30500                 12                  2                  2  \n",
       "15602                 22                  4                  2  "
      ]
     },
     "execution_count": 22,
     "metadata": {},
     "output_type": "execute_result"
    }
   ],
   "source": [
    "train_df.loc[train_df.score==0].sample(10).head(10)"
   ]
  },
  {
   "cell_type": "markdown",
   "id": "dab6ea1a",
   "metadata": {
    "papermill": {
     "duration": 0.105626,
     "end_time": "2022-04-06T09:10:54.188063",
     "exception": false,
     "start_time": "2022-04-06T09:10:54.082437",
     "status": "completed"
    },
    "tags": []
   },
   "source": [
    "It's interesting to notice that the phrases with zero matching score have quite frequent common words. Most probably, if we will use some sort of words similarity, without semantic context, the performance of a model will not be extraordinary. We will explore this further in the next sections."
   ]
  },
  {
   "cell_type": "markdown",
   "id": "d43a7ac2",
   "metadata": {
    "papermill": {
     "duration": 0.107322,
     "end_time": "2022-04-06T09:10:54.401580",
     "exception": false,
     "start_time": "2022-04-06T09:10:54.294258",
     "status": "completed"
    },
    "tags": []
   },
   "source": [
    "## How many contexts and how many anchor / context ?"
   ]
  },
  {
   "cell_type": "code",
   "execution_count": 23,
   "id": "743943b4",
   "metadata": {
    "execution": {
     "iopub.execute_input": "2022-04-06T09:10:54.618510Z",
     "iopub.status.busy": "2022-04-06T09:10:54.617800Z",
     "iopub.status.idle": "2022-04-06T09:10:54.627304Z",
     "shell.execute_reply": "2022-04-06T09:10:54.626697Z",
     "shell.execute_reply.started": "2022-04-06T09:06:54.697331Z"
    },
    "papermill": {
     "duration": 0.11929,
     "end_time": "2022-04-06T09:10:54.627456",
     "exception": false,
     "start_time": "2022-04-06T09:10:54.508166",
     "status": "completed"
    },
    "tags": []
   },
   "outputs": [
    {
     "name": "stdout",
     "output_type": "stream",
     "text": [
      "Unique contexts: 106\n"
     ]
    }
   ],
   "source": [
    "print(f\"Unique contexts: {train_df.context.nunique()}\")"
   ]
  },
  {
   "cell_type": "code",
   "execution_count": 24,
   "id": "371eff3e",
   "metadata": {
    "execution": {
     "iopub.execute_input": "2022-04-06T09:10:54.848079Z",
     "iopub.status.busy": "2022-04-06T09:10:54.846998Z",
     "iopub.status.idle": "2022-04-06T09:10:54.874318Z",
     "shell.execute_reply": "2022-04-06T09:10:54.873719Z",
     "shell.execute_reply.started": "2022-04-06T09:06:54.709008Z"
    },
    "papermill": {
     "duration": 0.139594,
     "end_time": "2022-04-06T09:10:54.874475",
     "exception": false,
     "start_time": "2022-04-06T09:10:54.734881",
     "status": "completed"
    },
    "tags": []
   },
   "outputs": [
    {
     "name": "stdout",
     "output_type": "stream",
     "text": [
      "1699\n"
     ]
    },
    {
     "data": {
      "text/html": [
       "<div>\n",
       "<style scoped>\n",
       "    .dataframe tbody tr th:only-of-type {\n",
       "        vertical-align: middle;\n",
       "    }\n",
       "\n",
       "    .dataframe tbody tr th {\n",
       "        vertical-align: top;\n",
       "    }\n",
       "\n",
       "    .dataframe thead th {\n",
       "        text-align: right;\n",
       "    }\n",
       "</style>\n",
       "<table border=\"1\" class=\"dataframe\">\n",
       "  <thead>\n",
       "    <tr style=\"text-align: right;\">\n",
       "      <th></th>\n",
       "      <th>context</th>\n",
       "      <th>anchor</th>\n",
       "    </tr>\n",
       "  </thead>\n",
       "  <tbody>\n",
       "    <tr>\n",
       "      <th>101</th>\n",
       "      <td>H01</td>\n",
       "      <td>98</td>\n",
       "    </tr>\n",
       "    <tr>\n",
       "      <th>104</th>\n",
       "      <td>H04</td>\n",
       "      <td>80</td>\n",
       "    </tr>\n",
       "    <tr>\n",
       "      <th>88</th>\n",
       "      <td>G01</td>\n",
       "      <td>71</td>\n",
       "    </tr>\n",
       "    <tr>\n",
       "      <th>11</th>\n",
       "      <td>A61</td>\n",
       "      <td>66</td>\n",
       "    </tr>\n",
       "    <tr>\n",
       "      <th>76</th>\n",
       "      <td>F16</td>\n",
       "      <td>56</td>\n",
       "    </tr>\n",
       "  </tbody>\n",
       "</table>\n",
       "</div>"
      ],
      "text/plain": [
       "    context  anchor\n",
       "101     H01      98\n",
       "104     H04      80\n",
       "88      G01      71\n",
       "11      A61      66\n",
       "76      F16      56"
      ]
     },
     "execution_count": 24,
     "metadata": {},
     "output_type": "execute_result"
    }
   ],
   "source": [
    "anchor_train_df = train_df[[\"context\", \"anchor\"]].drop_duplicates()\n",
    "print(anchor_train_df.shape[0])\n",
    "grouped_df = anchor_train_df.groupby([\"context\"])[\"anchor\"].count().reset_index().sort_values([\"anchor\"], ascending=False)\n",
    "grouped_df.head(5)"
   ]
  },
  {
   "cell_type": "code",
   "execution_count": 25,
   "id": "b425b085",
   "metadata": {
    "execution": {
     "iopub.execute_input": "2022-04-06T09:10:55.094226Z",
     "iopub.status.busy": "2022-04-06T09:10:55.093197Z",
     "iopub.status.idle": "2022-04-06T09:10:55.103401Z",
     "shell.execute_reply": "2022-04-06T09:10:55.104006Z",
     "shell.execute_reply.started": "2022-04-06T09:06:54.743249Z"
    },
    "papermill": {
     "duration": 0.122622,
     "end_time": "2022-04-06T09:10:55.104196",
     "exception": false,
     "start_time": "2022-04-06T09:10:54.981574",
     "status": "completed"
    },
    "tags": []
   },
   "outputs": [
    {
     "data": {
      "text/html": [
       "<div>\n",
       "<style scoped>\n",
       "    .dataframe tbody tr th:only-of-type {\n",
       "        vertical-align: middle;\n",
       "    }\n",
       "\n",
       "    .dataframe tbody tr th {\n",
       "        vertical-align: top;\n",
       "    }\n",
       "\n",
       "    .dataframe thead th {\n",
       "        text-align: right;\n",
       "    }\n",
       "</style>\n",
       "<table border=\"1\" class=\"dataframe\">\n",
       "  <thead>\n",
       "    <tr style=\"text-align: right;\">\n",
       "      <th></th>\n",
       "      <th>context</th>\n",
       "      <th>anchor</th>\n",
       "    </tr>\n",
       "  </thead>\n",
       "  <tbody>\n",
       "    <tr>\n",
       "      <th>28</th>\n",
       "      <td>B31</td>\n",
       "      <td>2</td>\n",
       "    </tr>\n",
       "    <tr>\n",
       "      <th>19</th>\n",
       "      <td>B08</td>\n",
       "      <td>2</td>\n",
       "    </tr>\n",
       "    <tr>\n",
       "      <th>2</th>\n",
       "      <td>A22</td>\n",
       "      <td>2</td>\n",
       "    </tr>\n",
       "    <tr>\n",
       "      <th>83</th>\n",
       "      <td>F26</td>\n",
       "      <td>1</td>\n",
       "    </tr>\n",
       "    <tr>\n",
       "      <th>77</th>\n",
       "      <td>F17</td>\n",
       "      <td>1</td>\n",
       "    </tr>\n",
       "  </tbody>\n",
       "</table>\n",
       "</div>"
      ],
      "text/plain": [
       "   context  anchor\n",
       "28     B31       2\n",
       "19     B08       2\n",
       "2      A22       2\n",
       "83     F26       1\n",
       "77     F17       1"
      ]
     },
     "execution_count": 25,
     "metadata": {},
     "output_type": "execute_result"
    }
   ],
   "source": [
    "grouped_df.tail(5)"
   ]
  },
  {
   "cell_type": "code",
   "execution_count": 26,
   "id": "3fa4d40e",
   "metadata": {
    "execution": {
     "iopub.execute_input": "2022-04-06T09:10:55.322990Z",
     "iopub.status.busy": "2022-04-06T09:10:55.321913Z",
     "iopub.status.idle": "2022-04-06T09:10:55.710854Z",
     "shell.execute_reply": "2022-04-06T09:10:55.711383Z",
     "shell.execute_reply.started": "2022-04-06T09:06:54.755493Z"
    },
    "papermill": {
     "duration": 0.500119,
     "end_time": "2022-04-06T09:10:55.711567",
     "exception": false,
     "start_time": "2022-04-06T09:10:55.211448",
     "status": "completed"
    },
    "tags": []
   },
   "outputs": [
    {
     "data": {
      "image/png": "[encoded data removed]",
      "text/plain": [
       "<Figure size 864x432 with 1 Axes>"
      ]
     },
     "metadata": {
      "needs_background": "light"
     },
     "output_type": "display_data"
    }
   ],
   "source": [
    "plt.figure(figsize=(12,6))\n",
    "plt.title(\"Distribution of anchor count/context\")\n",
    "sns.distplot(grouped_df[\"anchor\"],kde=False,hist=True, bins=80, label=None, color=\"red\")\n",
    "plt.legend(); plt.show()"
   ]
  },
  {
   "cell_type": "markdown",
   "id": "c7f50231",
   "metadata": {
    "papermill": {
     "duration": 0.107704,
     "end_time": "2022-04-06T09:10:55.928355",
     "exception": false,
     "start_time": "2022-04-06T09:10:55.820651",
     "status": "completed"
    },
    "tags": []
   },
   "source": [
    "## How many many targets / context?"
   ]
  },
  {
   "cell_type": "code",
   "execution_count": 27,
   "id": "209b7939",
   "metadata": {
    "execution": {
     "iopub.execute_input": "2022-04-06T09:10:56.150134Z",
     "iopub.status.busy": "2022-04-06T09:10:56.149067Z",
     "iopub.status.idle": "2022-04-06T09:10:56.170772Z",
     "shell.execute_reply": "2022-04-06T09:10:56.171257Z",
     "shell.execute_reply.started": "2022-04-06T09:06:55.099997Z"
    },
    "papermill": {
     "duration": 0.133967,
     "end_time": "2022-04-06T09:10:56.171445",
     "exception": false,
     "start_time": "2022-04-06T09:10:56.037478",
     "status": "completed"
    },
    "tags": []
   },
   "outputs": [
    {
     "data": {
      "text/html": [
       "<div>\n",
       "<style scoped>\n",
       "    .dataframe tbody tr th:only-of-type {\n",
       "        vertical-align: middle;\n",
       "    }\n",
       "\n",
       "    .dataframe tbody tr th {\n",
       "        vertical-align: top;\n",
       "    }\n",
       "\n",
       "    .dataframe thead th {\n",
       "        text-align: right;\n",
       "    }\n",
       "</style>\n",
       "<table border=\"1\" class=\"dataframe\">\n",
       "  <thead>\n",
       "    <tr style=\"text-align: right;\">\n",
       "      <th></th>\n",
       "      <th>context</th>\n",
       "      <th>target</th>\n",
       "    </tr>\n",
       "  </thead>\n",
       "  <tbody>\n",
       "    <tr>\n",
       "      <th>101</th>\n",
       "      <td>H01</td>\n",
       "      <td>2186</td>\n",
       "    </tr>\n",
       "    <tr>\n",
       "      <th>104</th>\n",
       "      <td>H04</td>\n",
       "      <td>2177</td>\n",
       "    </tr>\n",
       "    <tr>\n",
       "      <th>88</th>\n",
       "      <td>G01</td>\n",
       "      <td>1812</td>\n",
       "    </tr>\n",
       "    <tr>\n",
       "      <th>11</th>\n",
       "      <td>A61</td>\n",
       "      <td>1477</td>\n",
       "    </tr>\n",
       "    <tr>\n",
       "      <th>76</th>\n",
       "      <td>F16</td>\n",
       "      <td>1091</td>\n",
       "    </tr>\n",
       "  </tbody>\n",
       "</table>\n",
       "</div>"
      ],
      "text/plain": [
       "    context  target\n",
       "101     H01    2186\n",
       "104     H04    2177\n",
       "88      G01    1812\n",
       "11      A61    1477\n",
       "76      F16    1091"
      ]
     },
     "execution_count": 27,
     "metadata": {},
     "output_type": "execute_result"
    }
   ],
   "source": [
    "grouped_df = train_df.groupby([\"context\"])[\"target\"].count().reset_index().sort_values([\"target\"], ascending=False)\n",
    "grouped_df.head(5)"
   ]
  },
  {
   "cell_type": "code",
   "execution_count": 28,
   "id": "88a0ccac",
   "metadata": {
    "execution": {
     "iopub.execute_input": "2022-04-06T09:10:56.401868Z",
     "iopub.status.busy": "2022-04-06T09:10:56.400983Z",
     "iopub.status.idle": "2022-04-06T09:10:56.404557Z",
     "shell.execute_reply": "2022-04-06T09:10:56.405047Z",
     "shell.execute_reply.started": "2022-04-06T09:06:55.125182Z"
    },
    "papermill": {
     "duration": 0.124769,
     "end_time": "2022-04-06T09:10:56.405243",
     "exception": false,
     "start_time": "2022-04-06T09:10:56.280474",
     "status": "completed"
    },
    "tags": []
   },
   "outputs": [
    {
     "data": {
      "text/html": [
       "<div>\n",
       "<style scoped>\n",
       "    .dataframe tbody tr th:only-of-type {\n",
       "        vertical-align: middle;\n",
       "    }\n",
       "\n",
       "    .dataframe tbody tr th {\n",
       "        vertical-align: top;\n",
       "    }\n",
       "\n",
       "    .dataframe thead th {\n",
       "        text-align: right;\n",
       "    }\n",
       "</style>\n",
       "<table border=\"1\" class=\"dataframe\">\n",
       "  <thead>\n",
       "    <tr style=\"text-align: right;\">\n",
       "      <th></th>\n",
       "      <th>context</th>\n",
       "      <th>target</th>\n",
       "    </tr>\n",
       "  </thead>\n",
       "  <tbody>\n",
       "    <tr>\n",
       "      <th>16</th>\n",
       "      <td>B03</td>\n",
       "      <td>47</td>\n",
       "    </tr>\n",
       "    <tr>\n",
       "      <th>77</th>\n",
       "      <td>F17</td>\n",
       "      <td>33</td>\n",
       "    </tr>\n",
       "    <tr>\n",
       "      <th>28</th>\n",
       "      <td>B31</td>\n",
       "      <td>24</td>\n",
       "    </tr>\n",
       "    <tr>\n",
       "      <th>12</th>\n",
       "      <td>A62</td>\n",
       "      <td>23</td>\n",
       "    </tr>\n",
       "    <tr>\n",
       "      <th>83</th>\n",
       "      <td>F26</td>\n",
       "      <td>18</td>\n",
       "    </tr>\n",
       "  </tbody>\n",
       "</table>\n",
       "</div>"
      ],
      "text/plain": [
       "   context  target\n",
       "16     B03      47\n",
       "77     F17      33\n",
       "28     B31      24\n",
       "12     A62      23\n",
       "83     F26      18"
      ]
     },
     "execution_count": 28,
     "metadata": {},
     "output_type": "execute_result"
    }
   ],
   "source": [
    "grouped_df.tail(5)"
   ]
  },
  {
   "cell_type": "markdown",
   "id": "104b67d4",
   "metadata": {
    "papermill": {
     "duration": 0.110612,
     "end_time": "2022-04-06T09:10:56.625222",
     "exception": false,
     "start_time": "2022-04-06T09:10:56.514610",
     "status": "completed"
    },
    "tags": []
   },
   "source": [
    "Let's also show the distribution of number of targets / context."
   ]
  },
  {
   "cell_type": "code",
   "execution_count": 29,
   "id": "4c734217",
   "metadata": {
    "execution": {
     "iopub.execute_input": "2022-04-06T09:10:56.846979Z",
     "iopub.status.busy": "2022-04-06T09:10:56.845945Z",
     "iopub.status.idle": "2022-04-06T09:10:57.368256Z",
     "shell.execute_reply": "2022-04-06T09:10:57.368867Z",
     "shell.execute_reply.started": "2022-04-06T09:06:55.137809Z"
    },
    "papermill": {
     "duration": 0.635095,
     "end_time": "2022-04-06T09:10:57.369063",
     "exception": false,
     "start_time": "2022-04-06T09:10:56.733968",
     "status": "completed"
    },
    "tags": []
   },
   "outputs": [
    {
     "data": {
      "image/png": "[encoded data removed]",
      "text/plain": [
       "<Figure size 864x432 with 1 Axes>"
      ]
     },
     "metadata": {
      "needs_background": "light"
     },
     "output_type": "display_data"
    }
   ],
   "source": [
    "plt.figure(figsize=(12,6))\n",
    "plt.title(\"Distribution of target count/context\")\n",
    "sns.distplot(grouped_df[\"target\"],kde=False,hist=True, bins=80, label=None, color='green')\n",
    "plt.legend(); plt.show()"
   ]
  },
  {
   "cell_type": "markdown",
   "id": "235dc87f",
   "metadata": {
    "papermill": {
     "duration": 0.112235,
     "end_time": "2022-04-06T09:10:57.592661",
     "exception": false,
     "start_time": "2022-04-06T09:10:57.480426",
     "status": "completed"
    },
    "tags": []
   },
   "source": [
    "## How many context areas and how many anchor/context area?"
   ]
  },
  {
   "cell_type": "code",
   "execution_count": 30,
   "id": "7e1164c2",
   "metadata": {
    "execution": {
     "iopub.execute_input": "2022-04-06T09:10:57.819779Z",
     "iopub.status.busy": "2022-04-06T09:10:57.819065Z",
     "iopub.status.idle": "2022-04-06T09:10:57.842859Z",
     "shell.execute_reply": "2022-04-06T09:10:57.843526Z",
     "shell.execute_reply.started": "2022-04-06T09:06:55.479282Z"
    },
    "papermill": {
     "duration": 0.140624,
     "end_time": "2022-04-06T09:10:57.843717",
     "exception": false,
     "start_time": "2022-04-06T09:10:57.703093",
     "status": "completed"
    },
    "tags": []
   },
   "outputs": [
    {
     "name": "stdout",
     "output_type": "stream",
     "text": [
      "Context areas count: 8\n",
      "Context areas: ['A' 'C' 'F' 'H' 'B' 'D' 'E' 'G']\n"
     ]
    }
   ],
   "source": [
    "train_df[\"context_area\"] = train_df[\"context\"].apply(lambda x: str(x)[0])\n",
    "print(f\"Context areas count: {train_df.context_area.nunique()}\")\n",
    "print(f\"Context areas: {train_df.context_area.unique()}\")"
   ]
  },
  {
   "cell_type": "code",
   "execution_count": 31,
   "id": "86b30612",
   "metadata": {
    "execution": {
     "iopub.execute_input": "2022-04-06T09:10:58.070462Z",
     "iopub.status.busy": "2022-04-06T09:10:58.069706Z",
     "iopub.status.idle": "2022-04-06T09:10:58.099617Z",
     "shell.execute_reply": "2022-04-06T09:10:58.099050Z",
     "shell.execute_reply.started": "2022-04-06T09:06:55.506994Z"
    },
    "papermill": {
     "duration": 0.144656,
     "end_time": "2022-04-06T09:10:58.099798",
     "exception": false,
     "start_time": "2022-04-06T09:10:57.955142",
     "status": "completed"
    },
    "tags": []
   },
   "outputs": [
    {
     "name": "stdout",
     "output_type": "stream",
     "text": [
      "Context area + anchor: 1336\n"
     ]
    },
    {
     "data": {
      "text/html": [
       "<div>\n",
       "<style scoped>\n",
       "    .dataframe tbody tr th:only-of-type {\n",
       "        vertical-align: middle;\n",
       "    }\n",
       "\n",
       "    .dataframe tbody tr th {\n",
       "        vertical-align: top;\n",
       "    }\n",
       "\n",
       "    .dataframe thead th {\n",
       "        text-align: right;\n",
       "    }\n",
       "</style>\n",
       "<table border=\"1\" class=\"dataframe\">\n",
       "  <thead>\n",
       "    <tr style=\"text-align: right;\">\n",
       "      <th></th>\n",
       "      <th>context_area</th>\n",
       "      <th>anchor</th>\n",
       "    </tr>\n",
       "  </thead>\n",
       "  <tbody>\n",
       "    <tr>\n",
       "      <th>1</th>\n",
       "      <td>B</td>\n",
       "      <td>279</td>\n",
       "    </tr>\n",
       "    <tr>\n",
       "      <th>6</th>\n",
       "      <td>G</td>\n",
       "      <td>211</td>\n",
       "    </tr>\n",
       "    <tr>\n",
       "      <th>7</th>\n",
       "      <td>H</td>\n",
       "      <td>205</td>\n",
       "    </tr>\n",
       "    <tr>\n",
       "      <th>0</th>\n",
       "      <td>A</td>\n",
       "      <td>177</td>\n",
       "    </tr>\n",
       "    <tr>\n",
       "      <th>2</th>\n",
       "      <td>C</td>\n",
       "      <td>174</td>\n",
       "    </tr>\n",
       "    <tr>\n",
       "      <th>5</th>\n",
       "      <td>F</td>\n",
       "      <td>153</td>\n",
       "    </tr>\n",
       "    <tr>\n",
       "      <th>4</th>\n",
       "      <td>E</td>\n",
       "      <td>73</td>\n",
       "    </tr>\n",
       "    <tr>\n",
       "      <th>3</th>\n",
       "      <td>D</td>\n",
       "      <td>64</td>\n",
       "    </tr>\n",
       "  </tbody>\n",
       "</table>\n",
       "</div>"
      ],
      "text/plain": [
       "  context_area  anchor\n",
       "1            B     279\n",
       "6            G     211\n",
       "7            H     205\n",
       "0            A     177\n",
       "2            C     174\n",
       "5            F     153\n",
       "4            E      73\n",
       "3            D      64"
      ]
     },
     "execution_count": 31,
     "metadata": {},
     "output_type": "execute_result"
    }
   ],
   "source": [
    "anchor_train_df = train_df[[\"context_area\", \"anchor\"]].drop_duplicates()\n",
    "print(f\"Context area + anchor: {anchor_train_df.shape[0]}\")\n",
    "grouped_df = anchor_train_df.groupby([\"context_area\"])[\"anchor\"].count().reset_index().sort_values([\"anchor\"], ascending=False)\n",
    "grouped_df.head(10)"
   ]
  },
  {
   "cell_type": "code",
   "execution_count": 32,
   "id": "b46f19c2",
   "metadata": {
    "execution": {
     "iopub.execute_input": "2022-04-06T09:10:58.327129Z",
     "iopub.status.busy": "2022-04-06T09:10:58.326097Z",
     "iopub.status.idle": "2022-04-06T09:10:58.681961Z",
     "shell.execute_reply": "2022-04-06T09:10:58.682459Z",
     "shell.execute_reply.started": "2022-04-06T09:06:55.540063Z"
    },
    "papermill": {
     "duration": 0.471709,
     "end_time": "2022-04-06T09:10:58.682646",
     "exception": false,
     "start_time": "2022-04-06T09:10:58.210937",
     "status": "completed"
    },
    "tags": []
   },
   "outputs": [
    {
     "data": {
      "image/png": "[encoded data removed]",
      "text/plain": [
       "<Figure size 864x432 with 1 Axes>"
      ]
     },
     "metadata": {
      "needs_background": "light"
     },
     "output_type": "display_data"
    }
   ],
   "source": [
    "plt.figure(figsize=(12,6))\n",
    "plt.title(\"Distribution of anchor count/context area\")\n",
    "sns.distplot(grouped_df[\"anchor\"],kde=False,hist=True, bins=80, label=None, color='magenta')\n",
    "plt.legend(); plt.show()"
   ]
  },
  {
   "cell_type": "markdown",
   "id": "4ba83823",
   "metadata": {
    "papermill": {
     "duration": 0.111381,
     "end_time": "2022-04-06T09:10:58.906921",
     "exception": false,
     "start_time": "2022-04-06T09:10:58.795540",
     "status": "completed"
    },
    "tags": []
   },
   "source": [
    "## How many targets/context area?"
   ]
  },
  {
   "cell_type": "code",
   "execution_count": 33,
   "id": "01219e1b",
   "metadata": {
    "execution": {
     "iopub.execute_input": "2022-04-06T09:10:59.137516Z",
     "iopub.status.busy": "2022-04-06T09:10:59.136520Z",
     "iopub.status.idle": "2022-04-06T09:10:59.154548Z",
     "shell.execute_reply": "2022-04-06T09:10:59.155056Z",
     "shell.execute_reply.started": "2022-04-06T09:09:12.301038Z"
    },
    "papermill": {
     "duration": 0.136787,
     "end_time": "2022-04-06T09:10:59.155250",
     "exception": false,
     "start_time": "2022-04-06T09:10:59.018463",
     "status": "completed"
    },
    "tags": []
   },
   "outputs": [
    {
     "data": {
      "text/html": [
       "<div>\n",
       "<style scoped>\n",
       "    .dataframe tbody tr th:only-of-type {\n",
       "        vertical-align: middle;\n",
       "    }\n",
       "\n",
       "    .dataframe tbody tr th {\n",
       "        vertical-align: top;\n",
       "    }\n",
       "\n",
       "    .dataframe thead th {\n",
       "        text-align: right;\n",
       "    }\n",
       "</style>\n",
       "<table border=\"1\" class=\"dataframe\">\n",
       "  <thead>\n",
       "    <tr style=\"text-align: right;\">\n",
       "      <th></th>\n",
       "      <th>context_area</th>\n",
       "      <th>target</th>\n",
       "    </tr>\n",
       "  </thead>\n",
       "  <tbody>\n",
       "    <tr>\n",
       "      <th>1</th>\n",
       "      <td>B</td>\n",
       "      <td>8019</td>\n",
       "    </tr>\n",
       "    <tr>\n",
       "      <th>7</th>\n",
       "      <td>H</td>\n",
       "      <td>6195</td>\n",
       "    </tr>\n",
       "    <tr>\n",
       "      <th>6</th>\n",
       "      <td>G</td>\n",
       "      <td>6013</td>\n",
       "    </tr>\n",
       "    <tr>\n",
       "      <th>2</th>\n",
       "      <td>C</td>\n",
       "      <td>5288</td>\n",
       "    </tr>\n",
       "    <tr>\n",
       "      <th>0</th>\n",
       "      <td>A</td>\n",
       "      <td>4094</td>\n",
       "    </tr>\n",
       "    <tr>\n",
       "      <th>5</th>\n",
       "      <td>F</td>\n",
       "      <td>4054</td>\n",
       "    </tr>\n",
       "    <tr>\n",
       "      <th>4</th>\n",
       "      <td>E</td>\n",
       "      <td>1531</td>\n",
       "    </tr>\n",
       "    <tr>\n",
       "      <th>3</th>\n",
       "      <td>D</td>\n",
       "      <td>1279</td>\n",
       "    </tr>\n",
       "  </tbody>\n",
       "</table>\n",
       "</div>"
      ],
      "text/plain": [
       "  context_area  target\n",
       "1            B    8019\n",
       "7            H    6195\n",
       "6            G    6013\n",
       "2            C    5288\n",
       "0            A    4094\n",
       "5            F    4054\n",
       "4            E    1531\n",
       "3            D    1279"
      ]
     },
     "execution_count": 33,
     "metadata": {},
     "output_type": "execute_result"
    }
   ],
   "source": [
    "grouped_area_df = train_df.groupby([\"context_area\"])[\"target\"].count().reset_index().sort_values([\"target\"], ascending=False)\n",
    "grouped_area_df"
   ]
  },
  {
   "cell_type": "code",
   "execution_count": 34,
   "id": "fedcf356",
   "metadata": {
    "execution": {
     "iopub.execute_input": "2022-04-06T09:10:59.385851Z",
     "iopub.status.busy": "2022-04-06T09:10:59.384854Z",
     "iopub.status.idle": "2022-04-06T09:10:59.580448Z",
     "shell.execute_reply": "2022-04-06T09:10:59.579871Z",
     "shell.execute_reply.started": "2022-04-06T09:09:30.188878Z"
    },
    "papermill": {
     "duration": 0.312908,
     "end_time": "2022-04-06T09:10:59.580606",
     "exception": false,
     "start_time": "2022-04-06T09:10:59.267698",
     "status": "completed"
    },
    "tags": []
   },
   "outputs": [
    {
     "data": {
      "image/png": "[encoded data removed]",
      "text/plain": [
       "<Figure size 864x432 with 1 Axes>"
      ]
     },
     "metadata": {
      "needs_background": "light"
     },
     "output_type": "display_data"
    }
   ],
   "source": [
    "plt.figure(figsize=(12,6))\n",
    "plt.title(\"Distribution of target count/context area\")\n",
    "sns.distplot(grouped_area_df[\"target\"],kde=False,hist=True, bins=10, label=None, color=\"orange\")\n",
    "plt.legend(); plt.show()"
   ]
  },
  {
   "cell_type": "markdown",
   "id": "374c4970",
   "metadata": {
    "papermill": {
     "duration": 0.11485,
     "end_time": "2022-04-06T09:10:59.808882",
     "exception": false,
     "start_time": "2022-04-06T09:10:59.694032",
     "status": "completed"
    },
    "tags": []
   },
   "source": [
    "## How many context / context area?"
   ]
  },
  {
   "cell_type": "code",
   "execution_count": 35,
   "id": "e8bb4ea1",
   "metadata": {
    "execution": {
     "iopub.execute_input": "2022-04-06T09:11:00.047330Z",
     "iopub.status.busy": "2022-04-06T09:11:00.045592Z",
     "iopub.status.idle": "2022-04-06T09:11:00.069472Z",
     "shell.execute_reply": "2022-04-06T09:11:00.070095Z",
     "shell.execute_reply.started": "2022-04-06T09:09:55.765434Z"
    },
    "papermill": {
     "duration": 0.142687,
     "end_time": "2022-04-06T09:11:00.070313",
     "exception": false,
     "start_time": "2022-04-06T09:10:59.927626",
     "status": "completed"
    },
    "tags": []
   },
   "outputs": [
    {
     "data": {
      "text/html": [
       "<div>\n",
       "<style scoped>\n",
       "    .dataframe tbody tr th:only-of-type {\n",
       "        vertical-align: middle;\n",
       "    }\n",
       "\n",
       "    .dataframe tbody tr th {\n",
       "        vertical-align: top;\n",
       "    }\n",
       "\n",
       "    .dataframe thead th {\n",
       "        text-align: right;\n",
       "    }\n",
       "</style>\n",
       "<table border=\"1\" class=\"dataframe\">\n",
       "  <thead>\n",
       "    <tr style=\"text-align: right;\">\n",
       "      <th></th>\n",
       "      <th>context_area</th>\n",
       "      <th>context</th>\n",
       "    </tr>\n",
       "  </thead>\n",
       "  <tbody>\n",
       "    <tr>\n",
       "      <th>1</th>\n",
       "      <td>B</td>\n",
       "      <td>8019</td>\n",
       "    </tr>\n",
       "    <tr>\n",
       "      <th>7</th>\n",
       "      <td>H</td>\n",
       "      <td>6195</td>\n",
       "    </tr>\n",
       "    <tr>\n",
       "      <th>6</th>\n",
       "      <td>G</td>\n",
       "      <td>6013</td>\n",
       "    </tr>\n",
       "    <tr>\n",
       "      <th>2</th>\n",
       "      <td>C</td>\n",
       "      <td>5288</td>\n",
       "    </tr>\n",
       "    <tr>\n",
       "      <th>0</th>\n",
       "      <td>A</td>\n",
       "      <td>4094</td>\n",
       "    </tr>\n",
       "    <tr>\n",
       "      <th>5</th>\n",
       "      <td>F</td>\n",
       "      <td>4054</td>\n",
       "    </tr>\n",
       "    <tr>\n",
       "      <th>4</th>\n",
       "      <td>E</td>\n",
       "      <td>1531</td>\n",
       "    </tr>\n",
       "    <tr>\n",
       "      <th>3</th>\n",
       "      <td>D</td>\n",
       "      <td>1279</td>\n",
       "    </tr>\n",
       "  </tbody>\n",
       "</table>\n",
       "</div>"
      ],
      "text/plain": [
       "  context_area  context\n",
       "1            B     8019\n",
       "7            H     6195\n",
       "6            G     6013\n",
       "2            C     5288\n",
       "0            A     4094\n",
       "5            F     4054\n",
       "4            E     1531\n",
       "3            D     1279"
      ]
     },
     "execution_count": 35,
     "metadata": {},
     "output_type": "execute_result"
    }
   ],
   "source": [
    "grouped_area_ct_df = train_df.groupby([\"context_area\"])[\"context\"].count().reset_index().sort_values([\"context\"], ascending=False)\n",
    "grouped_area_ct_df"
   ]
  },
  {
   "cell_type": "code",
   "execution_count": 36,
   "id": "364116c1",
   "metadata": {
    "execution": {
     "iopub.execute_input": "2022-04-06T09:11:00.303223Z",
     "iopub.status.busy": "2022-04-06T09:11:00.302553Z",
     "iopub.status.idle": "2022-04-06T09:11:00.499279Z",
     "shell.execute_reply": "2022-04-06T09:11:00.498557Z",
     "shell.execute_reply.started": "2022-04-06T09:10:12.026306Z"
    },
    "papermill": {
     "duration": 0.314492,
     "end_time": "2022-04-06T09:11:00.499426",
     "exception": false,
     "start_time": "2022-04-06T09:11:00.184934",
     "status": "completed"
    },
    "tags": []
   },
   "outputs": [
    {
     "data": {
      "image/png": "[encoded data removed]",
      "text/plain": [
       "<Figure size 864x432 with 1 Axes>"
      ]
     },
     "metadata": {
      "needs_background": "light"
     },
     "output_type": "display_data"
    }
   ],
   "source": [
    "plt.figure(figsize=(12,6))\n",
    "plt.title(\"Distribution of context count/context area\")\n",
    "sns.distplot(grouped_area_ct_df[\"context\"],kde=False,hist=True, bins=10, label=None, color=\"darkgreen\")\n",
    "plt.legend(); plt.show()"
   ]
  },
  {
   "cell_type": "markdown",
   "id": "7f96405d",
   "metadata": {
    "papermill": {
     "duration": 0.116177,
     "end_time": "2022-04-06T09:11:00.730647",
     "exception": false,
     "start_time": "2022-04-06T09:11:00.614470",
     "status": "completed"
    },
    "tags": []
   },
   "source": [
    "# Is This a Model?\n",
    "\n",
    "Let's explore some ways to calculate a score of similarity between anchor and target. We will start with very simple ones, based on levenshtein distance, word embeddings cosine simmilarity.\n",
    "\n",
    "\n",
    "## Levenshtein distance "
   ]
  },
  {
   "cell_type": "code",
   "execution_count": 37,
   "id": "6d7698a7",
   "metadata": {
    "execution": {
     "iopub.execute_input": "2022-04-06T09:11:00.966912Z",
     "iopub.status.busy": "2022-04-06T09:11:00.966215Z",
     "iopub.status.idle": "2022-04-06T09:11:02.208187Z",
     "shell.execute_reply": "2022-04-06T09:11:02.207508Z",
     "shell.execute_reply.started": "2022-04-05T21:21:23.279512Z"
    },
    "papermill": {
     "duration": 1.361559,
     "end_time": "2022-04-06T09:11:02.208370",
     "exception": false,
     "start_time": "2022-04-06T09:11:00.846811",
     "status": "completed"
    },
    "tags": []
   },
   "outputs": [
    {
     "data": {
      "text/html": [
       "<div>\n",
       "<style scoped>\n",
       "    .dataframe tbody tr th:only-of-type {\n",
       "        vertical-align: middle;\n",
       "    }\n",
       "\n",
       "    .dataframe tbody tr th {\n",
       "        vertical-align: top;\n",
       "    }\n",
       "\n",
       "    .dataframe thead th {\n",
       "        text-align: right;\n",
       "    }\n",
       "</style>\n",
       "<table border=\"1\" class=\"dataframe\">\n",
       "  <thead>\n",
       "    <tr style=\"text-align: right;\">\n",
       "      <th></th>\n",
       "      <th>id</th>\n",
       "      <th>anchor</th>\n",
       "      <th>target</th>\n",
       "      <th>context</th>\n",
       "      <th>score</th>\n",
       "      <th>anchor_char_count</th>\n",
       "      <th>target_char_count</th>\n",
       "      <th>anchor_word_count</th>\n",
       "      <th>target_word_count</th>\n",
       "      <th>context_area</th>\n",
       "      <th>fuzzy_simmilarity_score</th>\n",
       "    </tr>\n",
       "  </thead>\n",
       "  <tbody>\n",
       "    <tr>\n",
       "      <th>0</th>\n",
       "      <td>37d61fd2272659b1</td>\n",
       "      <td>abatement</td>\n",
       "      <td>abatement of pollution</td>\n",
       "      <td>A47</td>\n",
       "      <td>0.50</td>\n",
       "      <td>9</td>\n",
       "      <td>22</td>\n",
       "      <td>1</td>\n",
       "      <td>3</td>\n",
       "      <td>A</td>\n",
       "      <td>0.58</td>\n",
       "    </tr>\n",
       "    <tr>\n",
       "      <th>1</th>\n",
       "      <td>7b9652b17b68b7a4</td>\n",
       "      <td>abatement</td>\n",
       "      <td>act of abating</td>\n",
       "      <td>A47</td>\n",
       "      <td>0.75</td>\n",
       "      <td>9</td>\n",
       "      <td>14</td>\n",
       "      <td>1</td>\n",
       "      <td>3</td>\n",
       "      <td>A</td>\n",
       "      <td>0.43</td>\n",
       "    </tr>\n",
       "  </tbody>\n",
       "</table>\n",
       "</div>"
      ],
      "text/plain": [
       "                 id     anchor                  target context  score  \\\n",
       "0  37d61fd2272659b1  abatement  abatement of pollution     A47   0.50   \n",
       "1  7b9652b17b68b7a4  abatement          act of abating     A47   0.75   \n",
       "\n",
       "   anchor_char_count  target_char_count  anchor_word_count  target_word_count  \\\n",
       "0                  9                 22                  1                  3   \n",
       "1                  9                 14                  1                  3   \n",
       "\n",
       "  context_area  fuzzy_simmilarity_score  \n",
       "0            A                     0.58  \n",
       "1            A                     0.43  "
      ]
     },
     "execution_count": 37,
     "metadata": {},
     "output_type": "execute_result"
    }
   ],
   "source": [
    "from fuzzywuzzy import fuzz\n",
    "def fuzzy_similarity(r):\n",
    "    return fuzz.ratio(r.anchor, r.target) / 100.\n",
    "train_df[\"fuzzy_simmilarity_score\"] = train_df.apply(fuzzy_similarity, axis=1)\n",
    "train_df.head(2)"
   ]
  },
  {
   "cell_type": "markdown",
   "id": "dbf9cfa2",
   "metadata": {
    "papermill": {
     "duration": 0.115702,
     "end_time": "2022-04-06T09:11:02.439380",
     "exception": false,
     "start_time": "2022-04-06T09:11:02.323678",
     "status": "completed"
    },
    "tags": []
   },
   "source": [
    "Let's also evaluate error of the estimate using this method."
   ]
  },
  {
   "cell_type": "code",
   "execution_count": 38,
   "id": "98d69dbe",
   "metadata": {
    "execution": {
     "iopub.execute_input": "2022-04-06T09:11:02.677190Z",
     "iopub.status.busy": "2022-04-06T09:11:02.676145Z",
     "iopub.status.idle": "2022-04-06T09:11:02.679276Z",
     "shell.execute_reply": "2022-04-06T09:11:02.678670Z",
     "shell.execute_reply.started": "2022-04-05T21:21:24.543753Z"
    },
    "papermill": {
     "duration": 0.124228,
     "end_time": "2022-04-06T09:11:02.679435",
     "exception": false,
     "start_time": "2022-04-06T09:11:02.555207",
     "status": "completed"
    },
    "tags": []
   },
   "outputs": [],
   "source": [
    "def compute_metrics(predictions, reference):\n",
    "    return np.corrcoef(predictions, reference)[0][1]"
   ]
  },
  {
   "cell_type": "code",
   "execution_count": 39,
   "id": "0646a2b3",
   "metadata": {
    "execution": {
     "iopub.execute_input": "2022-04-06T09:11:02.921052Z",
     "iopub.status.busy": "2022-04-06T09:11:02.920339Z",
     "iopub.status.idle": "2022-04-06T09:11:02.925493Z",
     "shell.execute_reply": "2022-04-06T09:11:02.926198Z",
     "shell.execute_reply.started": "2022-04-05T21:21:24.550314Z"
    },
    "papermill": {
     "duration": 0.12994,
     "end_time": "2022-04-06T09:11:02.926400",
     "exception": false,
     "start_time": "2022-04-06T09:11:02.796460",
     "status": "completed"
    },
    "tags": []
   },
   "outputs": [
    {
     "name": "stdout",
     "output_type": "stream",
     "text": [
      "0.4452047827862831\n"
     ]
    }
   ],
   "source": [
    "fuzzy_sim_score = compute_metrics(train_df[\"fuzzy_simmilarity_score\"].values, train_df[\"score\"].values)\n",
    "print(fuzzy_sim_score)"
   ]
  },
  {
   "cell_type": "markdown",
   "id": "07bec599",
   "metadata": {
    "papermill": {
     "duration": 0.116348,
     "end_time": "2022-04-06T09:11:03.161553",
     "exception": false,
     "start_time": "2022-04-06T09:11:03.045205",
     "status": "completed"
    },
    "tags": []
   },
   "source": [
    "Let's see the validation score if we round the score by fuzzy similarity to values of 0, 0.25, 0.5, 0.75, 1.0."
   ]
  },
  {
   "cell_type": "code",
   "execution_count": 40,
   "id": "60d6ab7b",
   "metadata": {
    "execution": {
     "iopub.execute_input": "2022-04-06T09:11:03.399725Z",
     "iopub.status.busy": "2022-04-06T09:11:03.398705Z",
     "iopub.status.idle": "2022-04-06T09:11:03.405357Z",
     "shell.execute_reply": "2022-04-06T09:11:03.405888Z",
     "shell.execute_reply.started": "2022-04-05T21:21:24.57021Z"
    },
    "papermill": {
     "duration": 0.128133,
     "end_time": "2022-04-06T09:11:03.406078",
     "exception": false,
     "start_time": "2022-04-06T09:11:03.277945",
     "status": "completed"
    },
    "tags": []
   },
   "outputs": [],
   "source": [
    "train_df[\"fuzzy_simmilarity_score_round\"] = round(train_df[\"fuzzy_simmilarity_score\"] * 4.0, 0) / 4.0"
   ]
  },
  {
   "cell_type": "code",
   "execution_count": 41,
   "id": "6107575b",
   "metadata": {
    "execution": {
     "iopub.execute_input": "2022-04-06T09:11:03.643582Z",
     "iopub.status.busy": "2022-04-06T09:11:03.642551Z",
     "iopub.status.idle": "2022-04-06T09:11:03.650221Z",
     "shell.execute_reply": "2022-04-06T09:11:03.649575Z",
     "shell.execute_reply.started": "2022-04-05T21:21:24.578359Z"
    },
    "papermill": {
     "duration": 0.127614,
     "end_time": "2022-04-06T09:11:03.650399",
     "exception": false,
     "start_time": "2022-04-06T09:11:03.522785",
     "status": "completed"
    },
    "tags": []
   },
   "outputs": [
    {
     "name": "stdout",
     "output_type": "stream",
     "text": [
      "0.4225375957890789\n"
     ]
    }
   ],
   "source": [
    "fuzzy_sim_score_round = compute_metrics(train_df[\"fuzzy_simmilarity_score_round\"].values, train_df[\"score\"].values)\n",
    "print(fuzzy_sim_score_round)"
   ]
  },
  {
   "cell_type": "markdown",
   "id": "2ae4f038",
   "metadata": {
    "papermill": {
     "duration": 0.11781,
     "end_time": "2022-04-06T09:11:03.885934",
     "exception": false,
     "start_time": "2022-04-06T09:11:03.768124",
     "status": "completed"
    },
    "tags": []
   },
   "source": [
    "The first approximation is better."
   ]
  },
  {
   "cell_type": "markdown",
   "id": "b57aa86d",
   "metadata": {
    "papermill": {
     "duration": 0.142957,
     "end_time": "2022-04-06T09:11:04.172408",
     "exception": false,
     "start_time": "2022-04-06T09:11:04.029451",
     "status": "completed"
    },
    "tags": []
   },
   "source": [
    "## Word embeddings similarity"
   ]
  },
  {
   "cell_type": "markdown",
   "id": "536beade",
   "metadata": {
    "papermill": {
     "duration": 0.117197,
     "end_time": "2022-04-06T09:11:04.423831",
     "exception": false,
     "start_time": "2022-04-06T09:11:04.306634",
     "status": "completed"
    },
    "tags": []
   },
   "source": [
    "### Create vocabulary "
   ]
  },
  {
   "cell_type": "code",
   "execution_count": 42,
   "id": "b3a16694",
   "metadata": {
    "execution": {
     "iopub.execute_input": "2022-04-06T09:11:04.671971Z",
     "iopub.status.busy": "2022-04-06T09:11:04.671267Z",
     "iopub.status.idle": "2022-04-06T09:11:04.672961Z",
     "shell.execute_reply": "2022-04-06T09:11:04.673441Z",
     "shell.execute_reply.started": "2022-04-05T21:21:24.591907Z"
    },
    "papermill": {
     "duration": 0.127154,
     "end_time": "2022-04-06T09:11:04.673626",
     "exception": false,
     "start_time": "2022-04-06T09:11:04.546472",
     "status": "completed"
    },
    "tags": []
   },
   "outputs": [],
   "source": [
    "def build_vocabulary(texts):\n",
    "    \"\"\"\n",
    "    credits to: https://www.kaggle.com/christofhenkel/how-to-preprocessing-when-using-embeddings \n",
    "    credits to: https://www.kaggle.com/anebzt/quora-preprocessing-model\n",
    "    input: list of list of words\n",
    "    output: dictionary of words and their count\n",
    "    \"\"\"\n",
    "    sentences = texts.apply(lambda x: x.split()).values\n",
    "    vocab = {}\n",
    "    for sentence in tqdm(sentences):\n",
    "        for word in sentence:\n",
    "            try:\n",
    "                vocab[word] += 1\n",
    "            except KeyError:\n",
    "                vocab[word] = 1\n",
    "    return vocab"
   ]
  },
  {
   "cell_type": "code",
   "execution_count": 43,
   "id": "7271c4d1",
   "metadata": {
    "execution": {
     "iopub.execute_input": "2022-04-06T09:11:04.912122Z",
     "iopub.status.busy": "2022-04-06T09:11:04.911430Z",
     "iopub.status.idle": "2022-04-06T09:11:05.270853Z",
     "shell.execute_reply": "2022-04-06T09:11:05.271412Z",
     "shell.execute_reply.started": "2022-04-05T21:21:24.743716Z"
    },
    "papermill": {
     "duration": 0.480256,
     "end_time": "2022-04-06T09:11:05.271592",
     "exception": false,
     "start_time": "2022-04-06T09:11:04.791336",
     "status": "completed"
    },
    "tags": []
   },
   "outputs": [
    {
     "name": "stderr",
     "output_type": "stream",
     "text": [
      "100%|██████████| 36509/36509 [00:00<00:00, 847172.65it/s]\n",
      "100%|██████████| 36509/36509 [00:00<00:00, 670619.14it/s]\n"
     ]
    }
   ],
   "source": [
    "# populate the vocabulary\n",
    "df = pd.concat([train_df ,test_df], sort=False)\n",
    "vocabulary_anchor = build_vocabulary(df['anchor'])\n",
    "vocabulary_target = build_vocabulary(df['target'])"
   ]
  },
  {
   "cell_type": "code",
   "execution_count": 44,
   "id": "e2798f33",
   "metadata": {
    "execution": {
     "iopub.execute_input": "2022-04-06T09:11:05.521391Z",
     "iopub.status.busy": "2022-04-06T09:11:05.520421Z",
     "iopub.status.idle": "2022-04-06T09:11:05.524332Z",
     "shell.execute_reply": "2022-04-06T09:11:05.523706Z",
     "shell.execute_reply.started": "2022-04-05T21:21:24.987929Z"
    },
    "papermill": {
     "duration": 0.131322,
     "end_time": "2022-04-06T09:11:05.524474",
     "exception": false,
     "start_time": "2022-04-06T09:11:05.393152",
     "status": "completed"
    },
    "tags": []
   },
   "outputs": [
    {
     "name": "stdout",
     "output_type": "stream",
     "text": [
      "{'abatement': 49, 'abnormal': 82, 'position': 218, 'absorbent': 80, 'properties': 59, 'acan': 23, 'accept': 32, 'information': 179, 'achieve': 21, 'authentication': 21}\n"
     ]
    }
   ],
   "source": [
    "# display the first 10 elements in anchor vocabulary and their count\n",
    "print({k: vocabulary_anchor[k] for k in list(vocabulary_anchor)[:10]})"
   ]
  },
  {
   "cell_type": "code",
   "execution_count": 45,
   "id": "ee9f8e75",
   "metadata": {
    "execution": {
     "iopub.execute_input": "2022-04-06T09:11:05.771678Z",
     "iopub.status.busy": "2022-04-06T09:11:05.770932Z",
     "iopub.status.idle": "2022-04-06T09:11:05.775977Z",
     "shell.execute_reply": "2022-04-06T09:11:05.776493Z",
     "shell.execute_reply.started": "2022-04-05T21:21:24.996964Z"
    },
    "papermill": {
     "duration": 0.130256,
     "end_time": "2022-04-06T09:11:05.776668",
     "exception": false,
     "start_time": "2022-04-06T09:11:05.646412",
     "status": "completed"
    },
    "tags": []
   },
   "outputs": [
    {
     "name": "stdout",
     "output_type": "stream",
     "text": [
      "{'abatement': 14, 'of': 763, 'pollution': 16, 'act': 6, 'abating': 2, 'active': 48, 'catalyst': 30, 'eliminating': 4, 'process': 133, 'forest': 2}\n"
     ]
    }
   ],
   "source": [
    "# display the first 10 elements in target vocabulary and their count\n",
    "print({k: vocabulary_target[k] for k in list(vocabulary_target)[:10]})"
   ]
  },
  {
   "cell_type": "markdown",
   "id": "68c2771e",
   "metadata": {
    "papermill": {
     "duration": 0.121844,
     "end_time": "2022-04-06T09:11:06.019998",
     "exception": false,
     "start_time": "2022-04-06T09:11:05.898154",
     "status": "completed"
    },
    "tags": []
   },
   "source": [
    "### Load embeddings"
   ]
  },
  {
   "cell_type": "code",
   "execution_count": 46,
   "id": "f37f480d",
   "metadata": {
    "execution": {
     "iopub.execute_input": "2022-04-06T09:11:06.266811Z",
     "iopub.status.busy": "2022-04-06T09:11:06.266084Z",
     "iopub.status.idle": "2022-04-06T09:11:06.271223Z",
     "shell.execute_reply": "2022-04-06T09:11:06.271753Z",
     "shell.execute_reply.started": "2022-04-05T21:21:25.014948Z"
    },
    "papermill": {
     "duration": 0.130073,
     "end_time": "2022-04-06T09:11:06.271927",
     "exception": false,
     "start_time": "2022-04-06T09:11:06.141854",
     "status": "completed"
    },
    "tags": []
   },
   "outputs": [],
   "source": [
    "def load_embeddings(file):\n",
    "    \"\"\"\n",
    "    credits to: https://www.kaggle.com/christofhenkel/how-to-preprocessing-when-using-embeddings \n",
    "    credits to: https://www.kaggle.com/anebzt/quora-preprocessing-model\n",
    "    input: embeddings file\n",
    "    output: embedding index\n",
    "    \"\"\"\n",
    "    def get_coefs(word,*arr): \n",
    "        return word, np.asarray(arr, dtype='float32')\n",
    "    embeddings_index = dict(get_coefs(*o.split(\" \")) for o in open(file, encoding='latin'))\n",
    "    return embeddings_index"
   ]
  },
  {
   "cell_type": "code",
   "execution_count": 47,
   "id": "6ea7cc22",
   "metadata": {
    "execution": {
     "iopub.execute_input": "2022-04-06T09:11:06.518490Z",
     "iopub.status.busy": "2022-04-06T09:11:06.517794Z",
     "iopub.status.idle": "2022-04-06T09:14:34.915821Z",
     "shell.execute_reply": "2022-04-06T09:14:34.916430Z",
     "shell.execute_reply.started": "2022-04-05T21:21:25.030427Z"
    },
    "papermill": {
     "duration": 208.523913,
     "end_time": "2022-04-06T09:14:34.916801",
     "exception": false,
     "start_time": "2022-04-06T09:11:06.392888",
     "status": "completed"
    },
    "tags": []
   },
   "outputs": [
    {
     "name": "stdout",
     "output_type": "stream",
     "text": [
      "Extracting GloVe embedding started\n",
      "Embedding completed\n",
      "CPU times: user 3min 10s, sys: 12.1 s, total: 3min 22s\n",
      "Wall time: 3min 28s\n"
     ]
    }
   ],
   "source": [
    "%%time\n",
    "GLOVE_PATH = '/kaggle/input/glove840b300dtxt/'\n",
    "print(\"Extracting GloVe embedding started\")\n",
    "embed_glove = load_embeddings(os.path.join(GLOVE_PATH,'glove.840B.300d.txt'))\n",
    "print(\"Embedding completed\")"
   ]
  },
  {
   "cell_type": "code",
   "execution_count": 48,
   "id": "cf73383d",
   "metadata": {
    "execution": {
     "iopub.execute_input": "2022-04-06T09:14:35.208625Z",
     "iopub.status.busy": "2022-04-06T09:14:35.204996Z",
     "iopub.status.idle": "2022-04-06T09:14:35.213180Z",
     "shell.execute_reply": "2022-04-06T09:14:35.212403Z",
     "shell.execute_reply.started": "2022-04-05T21:24:53.824933Z"
    },
    "papermill": {
     "duration": 0.157309,
     "end_time": "2022-04-06T09:14:35.213414",
     "exception": false,
     "start_time": "2022-04-06T09:14:35.056105",
     "status": "completed"
    },
    "tags": []
   },
   "outputs": [
    {
     "data": {
      "text/plain": [
       "2196017"
      ]
     },
     "execution_count": 48,
     "metadata": {},
     "output_type": "execute_result"
    }
   ],
   "source": [
    "len(embed_glove)"
   ]
  },
  {
   "cell_type": "markdown",
   "id": "e2bea4a2",
   "metadata": {
    "papermill": {
     "duration": 0.12637,
     "end_time": "2022-04-06T09:14:35.483473",
     "exception": false,
     "start_time": "2022-04-06T09:14:35.357103",
     "status": "completed"
    },
    "tags": []
   },
   "source": [
    "### Embeddings coverage\n",
    "\n",
    "Let's check embeddings coverage"
   ]
  },
  {
   "cell_type": "code",
   "execution_count": 49,
   "id": "bdb060cc",
   "metadata": {
    "execution": {
     "iopub.execute_input": "2022-04-06T09:14:35.754562Z",
     "iopub.status.busy": "2022-04-06T09:14:35.748693Z",
     "iopub.status.idle": "2022-04-06T09:14:35.760952Z",
     "shell.execute_reply": "2022-04-06T09:14:35.761559Z",
     "shell.execute_reply.started": "2022-04-05T21:27:00.949214Z"
    },
    "papermill": {
     "duration": 0.147012,
     "end_time": "2022-04-06T09:14:35.761769",
     "exception": false,
     "start_time": "2022-04-06T09:14:35.614757",
     "status": "completed"
    },
    "tags": []
   },
   "outputs": [],
   "source": [
    "def check_coverage(vocab, embeddings_index):\n",
    "    '''\n",
    "    credits to: https://www.kaggle.com/christofhenkel/how-to-preprocessing-when-using-embeddings \n",
    "    credits to: https://www.kaggle.com/anebzt/quora-preprocessing-model\n",
    "    input: vocabulary, embedding index\n",
    "    output: list of unknown words; also prints the vocabulary coverage of embeddings and the % of comments text covered by the embeddings\n",
    "    '''\n",
    "    known_words = {}\n",
    "    unknown_words = {}\n",
    "    nb_known_words = 0\n",
    "    nb_unknown_words = 0\n",
    "    for word in tqdm(vocab.keys()):\n",
    "        try:\n",
    "            known_words[word] = embeddings_index[word]\n",
    "            nb_known_words += vocab[word]\n",
    "        except:\n",
    "            unknown_words[word] = vocab[word]\n",
    "            nb_unknown_words += vocab[word]\n",
    "            pass\n",
    "    print('Found embeddings for {:.3%} of vocabulary'.format(len(known_words)/len(vocab)))\n",
    "    print('Found embeddings for {:.3%} of all text'.format(nb_known_words/(nb_known_words + nb_unknown_words)))\n",
    "    unknown_words = sorted(unknown_words.items(), key=operator.itemgetter(1))[::-1]\n",
    "    return unknown_words"
   ]
  },
  {
   "cell_type": "code",
   "execution_count": 50,
   "id": "e1f3578a",
   "metadata": {
    "execution": {
     "iopub.execute_input": "2022-04-06T09:14:36.031645Z",
     "iopub.status.busy": "2022-04-06T09:14:36.030614Z",
     "iopub.status.idle": "2022-04-06T09:14:36.082018Z",
     "shell.execute_reply": "2022-04-06T09:14:36.082545Z",
     "shell.execute_reply.started": "2022-04-05T21:27:03.916631Z"
    },
    "papermill": {
     "duration": 0.190511,
     "end_time": "2022-04-06T09:14:36.082730",
     "exception": false,
     "start_time": "2022-04-06T09:14:35.892219",
     "status": "completed"
    },
    "tags": []
   },
   "outputs": [
    {
     "name": "stdout",
     "output_type": "stream",
     "text": [
      "Verify the intial anchor vocabulary coverage\n"
     ]
    },
    {
     "name": "stderr",
     "output_type": "stream",
     "text": [
      "100%|██████████| 1113/1113 [00:00<00:00, 142151.66it/s]\n"
     ]
    },
    {
     "name": "stdout",
     "output_type": "stream",
     "text": [
      "Found embeddings for 98.113% of vocabulary\n",
      "Found embeddings for 99.049% of all text\n",
      "Verify the intial target vocabulary coverage\n"
     ]
    },
    {
     "name": "stderr",
     "output_type": "stream",
     "text": [
      "100%|██████████| 8906/8906 [00:00<00:00, 324133.76it/s]"
     ]
    },
    {
     "name": "stdout",
     "output_type": "stream",
     "text": [
      "Found embeddings for 96.508% of vocabulary\n",
      "Found embeddings for 99.485% of all text\n"
     ]
    },
    {
     "name": "stderr",
     "output_type": "stream",
     "text": [
      "\n"
     ]
    }
   ],
   "source": [
    "print(\"Verify the intial anchor vocabulary coverage\")\n",
    "oov_glove_anchor = check_coverage(vocabulary_anchor, embed_glove)\n",
    "print(\"Verify the intial target vocabulary coverage\")\n",
    "oov_glove_target = check_coverage(vocabulary_target, embed_glove)"
   ]
  },
  {
   "cell_type": "code",
   "execution_count": 51,
   "id": "6f950564",
   "metadata": {
    "execution": {
     "iopub.execute_input": "2022-04-06T09:14:36.345181Z",
     "iopub.status.busy": "2022-04-06T09:14:36.344271Z",
     "iopub.status.idle": "2022-04-06T09:14:36.349519Z",
     "shell.execute_reply": "2022-04-06T09:14:36.350051Z",
     "shell.execute_reply.started": "2022-04-05T21:27:21.255531Z"
    },
    "papermill": {
     "duration": 0.139469,
     "end_time": "2022-04-06T09:14:36.350247",
     "exception": false,
     "start_time": "2022-04-06T09:14:36.210778",
     "status": "completed"
    },
    "tags": []
   },
   "outputs": [
    {
     "name": "stdout",
     "output_type": "stream",
     "text": [
      "Anchor (most frequent) words not in embeddings:\n",
      " [('microchambers', 72), ('mayenite', 57), ('halocarbyl', 55), ('bandedge', 48), ('tetracene', 47), ('biocytin', 44), ('photodefinable', 43), ('pillaring', 42), ('hexahydro', 42), ('glycitin', 39)]\n",
      "Target (most frequent) words not in embeddings:\n",
      " [('photodefinable', 11), ('unclonable', 6), ('butanedioic', 6), ('pillaring', 5), ('ethanedioic', 5), ('protograph', 4), ('hexahydro', 4), ('methoxyisoflavone', 4), ('dioic', 4), ('bzatp', 3)]\n"
     ]
    }
   ],
   "source": [
    "print(\"Anchor (most frequent) words not in embeddings:\\n\", oov_glove_anchor[:10])\n",
    "print(\"Target (most frequent) words not in embeddings:\\n\", oov_glove_target[:10])"
   ]
  },
  {
   "cell_type": "code",
   "execution_count": 52,
   "id": "862facd3",
   "metadata": {
    "execution": {
     "iopub.execute_input": "2022-04-06T09:14:36.626528Z",
     "iopub.status.busy": "2022-04-06T09:14:36.625791Z",
     "iopub.status.idle": "2022-04-06T09:14:36.631788Z",
     "shell.execute_reply": "2022-04-06T09:14:36.632586Z",
     "shell.execute_reply.started": "2022-04-05T21:27:36.595819Z"
    },
    "papermill": {
     "duration": 0.14091,
     "end_time": "2022-04-06T09:14:36.632852",
     "exception": false,
     "start_time": "2022-04-06T09:14:36.491942",
     "status": "completed"
    },
    "tags": []
   },
   "outputs": [
    {
     "name": "stdout",
     "output_type": "stream",
     "text": [
      "Anchor total words not in embeddings:  21\n",
      "Target total words not in embeddings:  311\n"
     ]
    }
   ],
   "source": [
    "print(\"Anchor total words not in embeddings: \", len(oov_glove_anchor))\n",
    "print(\"Target total words not in embeddings: \", len(oov_glove_target))"
   ]
  },
  {
   "cell_type": "markdown",
   "id": "68afaecc",
   "metadata": {
    "papermill": {
     "duration": 0.133137,
     "end_time": "2022-04-06T09:14:36.898542",
     "exception": false,
     "start_time": "2022-04-06T09:14:36.765405",
     "status": "completed"
    },
    "tags": []
   },
   "source": [
    "### Calculate similarity"
   ]
  },
  {
   "cell_type": "markdown",
   "id": "24c3b049",
   "metadata": {
    "papermill": {
     "duration": 0.134103,
     "end_time": "2022-04-06T09:14:37.166382",
     "exception": false,
     "start_time": "2022-04-06T09:14:37.032279",
     "status": "completed"
    },
    "tags": []
   },
   "source": [
    "Let's apply now the cosine distance to out anchor and target phrases."
   ]
  },
  {
   "cell_type": "code",
   "execution_count": 53,
   "id": "c4e41d6f",
   "metadata": {
    "execution": {
     "iopub.execute_input": "2022-04-06T09:14:37.442167Z",
     "iopub.status.busy": "2022-04-06T09:14:37.441364Z",
     "iopub.status.idle": "2022-04-06T09:14:37.447522Z",
     "shell.execute_reply": "2022-04-06T09:14:37.448086Z",
     "shell.execute_reply.started": "2022-04-05T21:58:44.751638Z"
    },
    "papermill": {
     "duration": 0.143322,
     "end_time": "2022-04-06T09:14:37.448295",
     "exception": false,
     "start_time": "2022-04-06T09:14:37.304973",
     "status": "completed"
    },
    "tags": []
   },
   "outputs": [],
   "source": [
    "EMBED_SIZE = 300\n",
    "\n",
    "def embeddings(words, embeddings_index=embed_glove):\n",
    "    embedding_matrix = np.zeros((len(words) + 1, EMBED_SIZE))\n",
    "    for i, word in enumerate(words):\n",
    "        embedding_vector = embeddings_index.get(word)\n",
    "        if embedding_vector is not None:\n",
    "            # words not found in embedding index will be all-zeros.\n",
    "            embedding_matrix[i] = embedding_vector\n",
    "    return embedding_matrix"
   ]
  },
  {
   "cell_type": "code",
   "execution_count": 54,
   "id": "45c97aff",
   "metadata": {
    "execution": {
     "iopub.execute_input": "2022-04-06T09:14:37.729172Z",
     "iopub.status.busy": "2022-04-06T09:14:37.728383Z",
     "iopub.status.idle": "2022-04-06T09:14:38.020971Z",
     "shell.execute_reply": "2022-04-06T09:14:38.021558Z",
     "shell.execute_reply.started": "2022-04-05T21:58:46.3212Z"
    },
    "papermill": {
     "duration": 0.437027,
     "end_time": "2022-04-06T09:14:38.021768",
     "exception": false,
     "start_time": "2022-04-06T09:14:37.584741",
     "status": "completed"
    },
    "tags": []
   },
   "outputs": [],
   "source": [
    "import gensim\n",
    "def preprocess(text):\n",
    "    result = []\n",
    "    for token in gensim.utils.simple_preprocess(text):\n",
    "        if token not in gensim.parsing.preprocessing.STOPWORDS and len(token) > 2:\n",
    "            result.append(token)     \n",
    "    return result"
   ]
  },
  {
   "cell_type": "code",
   "execution_count": 55,
   "id": "4b056349",
   "metadata": {
    "execution": {
     "iopub.execute_input": "2022-04-06T09:14:38.310223Z",
     "iopub.status.busy": "2022-04-06T09:14:38.309495Z",
     "iopub.status.idle": "2022-04-06T09:14:38.311442Z",
     "shell.execute_reply": "2022-04-06T09:14:38.311976Z",
     "shell.execute_reply.started": "2022-04-05T21:58:50.243005Z"
    },
    "papermill": {
     "duration": 0.153172,
     "end_time": "2022-04-06T09:14:38.312150",
     "exception": false,
     "start_time": "2022-04-06T09:14:38.158978",
     "status": "completed"
    },
    "tags": []
   },
   "outputs": [],
   "source": [
    "import scipy\n",
    "def cosine_distance_wordembedding_method(r):\n",
    "    try:\n",
    "        words_1 = [word for word in preprocess(r.anchor)]\n",
    "        words_2 = [word for word in preprocess(r.target)]\n",
    "        vector_1 = np.mean(embeddings(words_1), axis = 0)\n",
    "        vector_2 = np.mean(embeddings(words_2), axis = 0) \n",
    "        cosine = scipy.spatial.distance.cosine(vector_1, vector_2)\n",
    "        return round((1-cosine),3)\n",
    "    except Exception as ex:\n",
    "        # if exception (missing word in embeddings), default on fuzzy wuzzy ratio (similarity score)\n",
    "        print(ex)\n",
    "        return fuzz.ratio(r.anchor, r.target) / 100."
   ]
  },
  {
   "cell_type": "code",
   "execution_count": 56,
   "id": "41ca847b",
   "metadata": {
    "execution": {
     "iopub.execute_input": "2022-04-06T09:14:38.595726Z",
     "iopub.status.busy": "2022-04-06T09:14:38.594519Z",
     "iopub.status.idle": "2022-04-06T09:14:45.298065Z",
     "shell.execute_reply": "2022-04-06T09:14:45.297449Z",
     "shell.execute_reply.started": "2022-04-05T21:59:17.738686Z"
    },
    "papermill": {
     "duration": 6.85646,
     "end_time": "2022-04-06T09:14:45.298209",
     "exception": false,
     "start_time": "2022-04-06T09:14:38.441749",
     "status": "completed"
    },
    "tags": []
   },
   "outputs": [],
   "source": [
    "train_df[\"word_embeddings_simmilarity_score\"] = train_df.apply(cosine_distance_wordembedding_method, axis=1)"
   ]
  },
  {
   "cell_type": "code",
   "execution_count": 57,
   "id": "cd750e19",
   "metadata": {
    "execution": {
     "iopub.execute_input": "2022-04-06T09:14:45.558469Z",
     "iopub.status.busy": "2022-04-06T09:14:45.557728Z",
     "iopub.status.idle": "2022-04-06T09:14:45.571721Z",
     "shell.execute_reply": "2022-04-06T09:14:45.572308Z",
     "shell.execute_reply.started": "2022-04-05T21:59:36.860002Z"
    },
    "papermill": {
     "duration": 0.147609,
     "end_time": "2022-04-06T09:14:45.572485",
     "exception": false,
     "start_time": "2022-04-06T09:14:45.424876",
     "status": "completed"
    },
    "tags": []
   },
   "outputs": [
    {
     "data": {
      "text/html": [
       "<div>\n",
       "<style scoped>\n",
       "    .dataframe tbody tr th:only-of-type {\n",
       "        vertical-align: middle;\n",
       "    }\n",
       "\n",
       "    .dataframe tbody tr th {\n",
       "        vertical-align: top;\n",
       "    }\n",
       "\n",
       "    .dataframe thead th {\n",
       "        text-align: right;\n",
       "    }\n",
       "</style>\n",
       "<table border=\"1\" class=\"dataframe\">\n",
       "  <thead>\n",
       "    <tr style=\"text-align: right;\">\n",
       "      <th></th>\n",
       "      <th>anchor</th>\n",
       "      <th>target</th>\n",
       "      <th>score</th>\n",
       "      <th>fuzzy_simmilarity_score</th>\n",
       "      <th>word_embeddings_simmilarity_score</th>\n",
       "    </tr>\n",
       "  </thead>\n",
       "  <tbody>\n",
       "    <tr>\n",
       "      <th>0</th>\n",
       "      <td>abatement</td>\n",
       "      <td>abatement of pollution</td>\n",
       "      <td>0.50</td>\n",
       "      <td>0.58</td>\n",
       "      <td>0.859</td>\n",
       "    </tr>\n",
       "    <tr>\n",
       "      <th>1</th>\n",
       "      <td>abatement</td>\n",
       "      <td>act of abating</td>\n",
       "      <td>0.75</td>\n",
       "      <td>0.43</td>\n",
       "      <td>0.468</td>\n",
       "    </tr>\n",
       "    <tr>\n",
       "      <th>2</th>\n",
       "      <td>abatement</td>\n",
       "      <td>active catalyst</td>\n",
       "      <td>0.25</td>\n",
       "      <td>0.33</td>\n",
       "      <td>0.225</td>\n",
       "    </tr>\n",
       "    <tr>\n",
       "      <th>3</th>\n",
       "      <td>abatement</td>\n",
       "      <td>eliminating process</td>\n",
       "      <td>0.50</td>\n",
       "      <td>0.29</td>\n",
       "      <td>0.324</td>\n",
       "    </tr>\n",
       "    <tr>\n",
       "      <th>4</th>\n",
       "      <td>abatement</td>\n",
       "      <td>forest region</td>\n",
       "      <td>0.00</td>\n",
       "      <td>0.27</td>\n",
       "      <td>0.160</td>\n",
       "    </tr>\n",
       "  </tbody>\n",
       "</table>\n",
       "</div>"
      ],
      "text/plain": [
       "      anchor                  target  score  fuzzy_simmilarity_score  \\\n",
       "0  abatement  abatement of pollution   0.50                     0.58   \n",
       "1  abatement          act of abating   0.75                     0.43   \n",
       "2  abatement         active catalyst   0.25                     0.33   \n",
       "3  abatement     eliminating process   0.50                     0.29   \n",
       "4  abatement           forest region   0.00                     0.27   \n",
       "\n",
       "   word_embeddings_simmilarity_score  \n",
       "0                              0.859  \n",
       "1                              0.468  \n",
       "2                              0.225  \n",
       "3                              0.324  \n",
       "4                              0.160  "
      ]
     },
     "execution_count": 57,
     "metadata": {},
     "output_type": "execute_result"
    }
   ],
   "source": [
    "train_df[[\"anchor\", \"target\", \"score\", \"fuzzy_simmilarity_score\", \"word_embeddings_simmilarity_score\"]].head()"
   ]
  },
  {
   "cell_type": "markdown",
   "id": "b6d23203",
   "metadata": {
    "papermill": {
     "duration": 0.127803,
     "end_time": "2022-04-06T09:14:45.826410",
     "exception": false,
     "start_time": "2022-04-06T09:14:45.698607",
     "status": "completed"
    },
    "tags": []
   },
   "source": [
    "Let's compute the metrics for this score."
   ]
  },
  {
   "cell_type": "code",
   "execution_count": 58,
   "id": "7e7e7989",
   "metadata": {
    "execution": {
     "iopub.execute_input": "2022-04-06T09:14:46.084019Z",
     "iopub.status.busy": "2022-04-06T09:14:46.083189Z",
     "iopub.status.idle": "2022-04-06T09:14:46.088335Z",
     "shell.execute_reply": "2022-04-06T09:14:46.087818Z",
     "shell.execute_reply.started": "2022-04-05T21:59:45.670265Z"
    },
    "papermill": {
     "duration": 0.136861,
     "end_time": "2022-04-06T09:14:46.088495",
     "exception": false,
     "start_time": "2022-04-06T09:14:45.951634",
     "status": "completed"
    },
    "tags": []
   },
   "outputs": [
    {
     "name": "stdout",
     "output_type": "stream",
     "text": [
      "0.43487176027965696\n"
     ]
    }
   ],
   "source": [
    "word_embeddings_simmilarity_score = compute_metrics(train_df[\"word_embeddings_simmilarity_score\"].values, train_df[\"score\"].values)\n",
    "print(word_embeddings_simmilarity_score)"
   ]
  },
  {
   "cell_type": "markdown",
   "id": "4b6616ec",
   "metadata": {
    "papermill": {
     "duration": 0.127357,
     "end_time": "2022-04-06T09:14:46.343842",
     "exception": false,
     "start_time": "2022-04-06T09:14:46.216485",
     "status": "completed"
    },
    "tags": []
   },
   "source": [
    "And also let's compute the metrics for this score (with the round)."
   ]
  },
  {
   "cell_type": "code",
   "execution_count": 59,
   "id": "1398c9ad",
   "metadata": {
    "execution": {
     "iopub.execute_input": "2022-04-06T09:14:46.604931Z",
     "iopub.status.busy": "2022-04-06T09:14:46.604170Z",
     "iopub.status.idle": "2022-04-06T09:14:46.611066Z",
     "shell.execute_reply": "2022-04-06T09:14:46.610475Z",
     "shell.execute_reply.started": "2022-04-05T21:59:55.480671Z"
    },
    "papermill": {
     "duration": 0.140784,
     "end_time": "2022-04-06T09:14:46.611216",
     "exception": false,
     "start_time": "2022-04-06T09:14:46.470432",
     "status": "completed"
    },
    "tags": []
   },
   "outputs": [
    {
     "name": "stdout",
     "output_type": "stream",
     "text": [
      "0.4104680187848462\n"
     ]
    }
   ],
   "source": [
    "train_df[\"word_embeddings_simmilarity_score_round\"] = round(train_df[\"word_embeddings_simmilarity_score\"] * 4.0, 0) / 4.0\n",
    "word_embeddings_simmilarity_score_round = compute_metrics(train_df[\"word_embeddings_simmilarity_score_round\"].values, train_df[\"score\"].values)\n",
    "print(word_embeddings_simmilarity_score_round)"
   ]
  },
  {
   "cell_type": "markdown",
   "id": "fa77e5ee",
   "metadata": {
    "papermill": {
     "duration": 0.127849,
     "end_time": "2022-04-06T09:14:46.865525",
     "exception": false,
     "start_time": "2022-04-06T09:14:46.737676",
     "status": "completed"
    },
    "tags": []
   },
   "source": [
    "We will use as a baseline submission the result for `word_embeddings_simmilarity_score`."
   ]
  },
  {
   "cell_type": "markdown",
   "id": "58da0908",
   "metadata": {
    "papermill": {
     "duration": 0.127846,
     "end_time": "2022-04-06T09:14:47.120110",
     "exception": false,
     "start_time": "2022-04-06T09:14:46.992264",
     "status": "completed"
    },
    "tags": []
   },
   "source": [
    "# Baseline Submission"
   ]
  },
  {
   "cell_type": "markdown",
   "id": "0d25f4da",
   "metadata": {
    "papermill": {
     "duration": 0.126688,
     "end_time": "2022-04-06T09:14:47.373304",
     "exception": false,
     "start_time": "2022-04-06T09:14:47.246616",
     "status": "completed"
    },
    "tags": []
   },
   "source": [
    "Let's prepare a submission where we set the score based on word embeddings cosine similarity."
   ]
  },
  {
   "cell_type": "code",
   "execution_count": 60,
   "id": "0175c673",
   "metadata": {
    "execution": {
     "iopub.execute_input": "2022-04-06T09:14:47.634034Z",
     "iopub.status.busy": "2022-04-06T09:14:47.633011Z",
     "iopub.status.idle": "2022-04-06T09:14:47.646790Z",
     "shell.execute_reply": "2022-04-06T09:14:47.647332Z",
     "shell.execute_reply.started": "2022-04-05T21:24:55.410025Z"
    },
    "papermill": {
     "duration": 0.147032,
     "end_time": "2022-04-06T09:14:47.647511",
     "exception": false,
     "start_time": "2022-04-06T09:14:47.500479",
     "status": "completed"
    },
    "tags": []
   },
   "outputs": [],
   "source": [
    "test_df[\"score\"] = test_df.apply(cosine_distance_wordembedding_method, axis=1)"
   ]
  },
  {
   "cell_type": "code",
   "execution_count": 61,
   "id": "042009a9",
   "metadata": {
    "execution": {
     "iopub.execute_input": "2022-04-06T09:14:47.905951Z",
     "iopub.status.busy": "2022-04-06T09:14:47.905214Z",
     "iopub.status.idle": "2022-04-06T09:14:47.918605Z",
     "shell.execute_reply": "2022-04-06T09:14:47.917849Z",
     "shell.execute_reply.started": "2022-04-05T21:24:55.423221Z"
    },
    "papermill": {
     "duration": 0.144029,
     "end_time": "2022-04-06T09:14:47.918757",
     "exception": false,
     "start_time": "2022-04-06T09:14:47.774728",
     "status": "completed"
    },
    "tags": []
   },
   "outputs": [
    {
     "data": {
      "text/html": [
       "<div>\n",
       "<style scoped>\n",
       "    .dataframe tbody tr th:only-of-type {\n",
       "        vertical-align: middle;\n",
       "    }\n",
       "\n",
       "    .dataframe tbody tr th {\n",
       "        vertical-align: top;\n",
       "    }\n",
       "\n",
       "    .dataframe thead th {\n",
       "        text-align: right;\n",
       "    }\n",
       "</style>\n",
       "<table border=\"1\" class=\"dataframe\">\n",
       "  <thead>\n",
       "    <tr style=\"text-align: right;\">\n",
       "      <th></th>\n",
       "      <th>id</th>\n",
       "      <th>anchor</th>\n",
       "      <th>target</th>\n",
       "      <th>context</th>\n",
       "      <th>score</th>\n",
       "    </tr>\n",
       "  </thead>\n",
       "  <tbody>\n",
       "    <tr>\n",
       "      <th>0</th>\n",
       "      <td>4112d61851461f60</td>\n",
       "      <td>opc drum</td>\n",
       "      <td>inorganic photoconductor drum</td>\n",
       "      <td>G02</td>\n",
       "      <td>0.564</td>\n",
       "    </tr>\n",
       "    <tr>\n",
       "      <th>1</th>\n",
       "      <td>09e418c93a776564</td>\n",
       "      <td>adjust gas flow</td>\n",
       "      <td>altering gas flow</td>\n",
       "      <td>F23</td>\n",
       "      <td>0.912</td>\n",
       "    </tr>\n",
       "    <tr>\n",
       "      <th>2</th>\n",
       "      <td>36baf228038e314b</td>\n",
       "      <td>lower trunnion</td>\n",
       "      <td>lower locating</td>\n",
       "      <td>B60</td>\n",
       "      <td>0.579</td>\n",
       "    </tr>\n",
       "    <tr>\n",
       "      <th>3</th>\n",
       "      <td>1f37ead645e7f0c8</td>\n",
       "      <td>cap component</td>\n",
       "      <td>upper portion</td>\n",
       "      <td>D06</td>\n",
       "      <td>0.593</td>\n",
       "    </tr>\n",
       "    <tr>\n",
       "      <th>4</th>\n",
       "      <td>71a5b6ad068d531f</td>\n",
       "      <td>neural stimulation</td>\n",
       "      <td>artificial neural network</td>\n",
       "      <td>H04</td>\n",
       "      <td>0.730</td>\n",
       "    </tr>\n",
       "  </tbody>\n",
       "</table>\n",
       "</div>"
      ],
      "text/plain": [
       "                 id              anchor                         target  \\\n",
       "0  4112d61851461f60            opc drum  inorganic photoconductor drum   \n",
       "1  09e418c93a776564     adjust gas flow              altering gas flow   \n",
       "2  36baf228038e314b      lower trunnion                 lower locating   \n",
       "3  1f37ead645e7f0c8       cap component                  upper portion   \n",
       "4  71a5b6ad068d531f  neural stimulation      artificial neural network   \n",
       "\n",
       "  context  score  \n",
       "0     G02  0.564  \n",
       "1     F23  0.912  \n",
       "2     B60  0.579  \n",
       "3     D06  0.593  \n",
       "4     H04  0.730  "
      ]
     },
     "execution_count": 61,
     "metadata": {},
     "output_type": "execute_result"
    }
   ],
   "source": [
    "test_df.head()"
   ]
  },
  {
   "cell_type": "code",
   "execution_count": 62,
   "id": "dd985a9e",
   "metadata": {
    "execution": {
     "iopub.execute_input": "2022-04-06T09:14:48.185108Z",
     "iopub.status.busy": "2022-04-06T09:14:48.184441Z",
     "iopub.status.idle": "2022-04-06T09:14:48.187713Z",
     "shell.execute_reply": "2022-04-06T09:14:48.188188Z",
     "shell.execute_reply.started": "2022-04-05T21:24:55.444909Z"
    },
    "papermill": {
     "duration": 0.141773,
     "end_time": "2022-04-06T09:14:48.188396",
     "exception": false,
     "start_time": "2022-04-06T09:14:48.046623",
     "status": "completed"
    },
    "tags": []
   },
   "outputs": [
    {
     "data": {
      "text/html": [
       "<div>\n",
       "<style scoped>\n",
       "    .dataframe tbody tr th:only-of-type {\n",
       "        vertical-align: middle;\n",
       "    }\n",
       "\n",
       "    .dataframe tbody tr th {\n",
       "        vertical-align: top;\n",
       "    }\n",
       "\n",
       "    .dataframe thead th {\n",
       "        text-align: right;\n",
       "    }\n",
       "</style>\n",
       "<table border=\"1\" class=\"dataframe\">\n",
       "  <thead>\n",
       "    <tr style=\"text-align: right;\">\n",
       "      <th></th>\n",
       "      <th>id</th>\n",
       "      <th>score</th>\n",
       "    </tr>\n",
       "  </thead>\n",
       "  <tbody>\n",
       "    <tr>\n",
       "      <th>0</th>\n",
       "      <td>4112d61851461f60</td>\n",
       "      <td>0</td>\n",
       "    </tr>\n",
       "    <tr>\n",
       "      <th>1</th>\n",
       "      <td>09e418c93a776564</td>\n",
       "      <td>0</td>\n",
       "    </tr>\n",
       "  </tbody>\n",
       "</table>\n",
       "</div>"
      ],
      "text/plain": [
       "                 id  score\n",
       "0  4112d61851461f60      0\n",
       "1  09e418c93a776564      0"
      ]
     },
     "execution_count": 62,
     "metadata": {},
     "output_type": "execute_result"
    }
   ],
   "source": [
    "sample_submission_df.head(2)"
   ]
  },
  {
   "cell_type": "code",
   "execution_count": 63,
   "id": "40d65ccc",
   "metadata": {
    "execution": {
     "iopub.execute_input": "2022-04-06T09:14:48.453795Z",
     "iopub.status.busy": "2022-04-06T09:14:48.453054Z",
     "iopub.status.idle": "2022-04-06T09:14:48.462334Z",
     "shell.execute_reply": "2022-04-06T09:14:48.461773Z",
     "shell.execute_reply.started": "2022-04-05T21:24:55.46472Z"
    },
    "papermill": {
     "duration": 0.145032,
     "end_time": "2022-04-06T09:14:48.462486",
     "exception": false,
     "start_time": "2022-04-06T09:14:48.317454",
     "status": "completed"
    },
    "tags": []
   },
   "outputs": [],
   "source": [
    "test_df[[\"id\", \"score\"]].to_csv(\"submission.csv\", index=False)"
   ]
  }
 ],
 "metadata": {
  "kernelspec": {
   "display_name": "Python 3",
   "language": "python",
   "name": "python3"
  },
  "language_info": {
   "codemirror_mode": {
    "name": "ipython",
    "version": 3
   },
   "file_extension": ".py",
   "mimetype": "text/x-python",
   "name": "python",
   "nbconvert_exporter": "python",
   "pygments_lexer": "ipython3",
   "version": "3.7.12"
  },
  "papermill": {
   "default_parameters": {},
   "duration": 263.536274,
   "end_time": "2022-04-06T09:14:51.013008",
   "environment_variables": {},
   "exception": null,
   "input_path": "__notebook__.ipynb",
   "output_path": "__notebook__.ipynb",
   "parameters": {},
   "start_time": "2022-04-06T09:10:27.476734",
   "version": "2.3.3"
  }
 },
 "nbformat": 4,
 "nbformat_minor": 5
}
